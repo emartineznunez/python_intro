{
 "cells": [
  {
   "cell_type": "markdown",
   "metadata": {},
   "source": [
    "## Tuplas\n",
    "A diferencia de una lista, una tupla es una secuencia inmutable de datos, lo que quiere decir que, una vez creada, no puede ser modificada. Para agrupar un conjunto de datos en una tupla, estos tienen que escribirse separados por una coma:\n",
    "```python\n",
    " mi_tupla = 8, 37, 99.9, -34.1, 0, 11\n",
    "```\n",
    "aunque es común encerrar, además, dicha secuencia de datos entre paréntesis:\n",
    "```python\n",
    "mi_tupla = (8, 37, 99.9, -34.1, 0, 11)\n",
    "```\n",
    "Al igual que con las listas, pueden seleccionarse elementos concretos de la tupla indicando su posición:\n",
    "```python\n",
    "print(mi_tupla[1])\n",
    "print(mi_tupla[2:4])\n",
    "```"
   ]
  },
  {
   "cell_type": "code",
   "execution_count": null,
   "metadata": {},
   "outputs": [],
   "source": []
  },
  {
   "cell_type": "markdown",
   "metadata": {},
   "source": [
    "y también pueden generarse nuevas tuplas con las operaciones ```+``` y ```*```:\n",
    "```python\n",
    "a = (1,3,5,7)\n",
    "b = (2,4,6,8)\n",
    "print(a + b)\n",
    "print(a * 2)\n",
    "```"
   ]
  },
  {
   "cell_type": "code",
   "execution_count": null,
   "metadata": {},
   "outputs": [],
   "source": []
  },
  {
   "cell_type": "markdown",
   "metadata": {},
   "source": [
    "Sin embargo, y a diferencia de las listas, si intentamos modificar una tupla, Python nos devolverá un error indicando que no es posible:\n",
    "```python\n",
    "a = (1,3,5,7)\n",
    "a[0] = 44\n",
    "```\n",
    "Este será el error:\n",
    "```python\n",
    "---------------------------------------------------------------------------\n",
    "TypeError                                 Traceback (most recent call last)\n",
    "<ipython-input-36-21278418c66d> in <module>\n",
    "      1 a = (1,3,5,7)\n",
    "----> 2 a[0] = 44\n",
    "\n",
    "TypeError: 'tuple' object does not support item assignment\n",
    "```"
   ]
  },
  {
   "cell_type": "code",
   "execution_count": null,
   "metadata": {},
   "outputs": [],
   "source": []
  },
  {
   "cell_type": "markdown",
   "metadata": {},
   "source": [
    "Pero... ¿por qué emplear tuplas si son como las listas, pero más limitadas? En primer lugar, al ser inmutables, las tuplas son ideales para almacenar una lista de\n",
    "datos que queremos que no se modifique a lo largo de todo el programa. En segundo lugar, las tuplas pueden usarse como índices para diccionarios, precisamente\n",
    "por el hecho de ser inmutables."
   ]
  },
  {
   "cell_type": "code",
   "execution_count": null,
   "metadata": {},
   "outputs": [],
   "source": []
  },
  {
   "cell_type": "markdown",
   "metadata": {},
   "source": [
    "## Diccionarios\n",
    "Al igual que las listas y las tuplas, los diccionarios permiten almacenar todo tipo de datos. En listas y tuplas, la posición de cada elemento se define\n",
    "a través de un número entero. En los diccionarios, dicha posicion se define a través de una clave, que puede ser cualquier objeto inmutable:\n",
    "un entero, una cadena, una tupla...__pero no una lista.__\n",
    "\n",
    "Mientras que los corchetes estaban reservados para la definicion de listas:\n",
    "```python\n",
    "mi_lista = [dato1, dato2, dato3]\n",
    "```\n",
    "y los paréntesis (aunque no son necesarios) para la de tuplas:\n",
    "```python\n",
    "mi_tupla = (dato1, dato2, dato3)\n",
    "```\n",
    "las llaves se reservan para definir diccionarios:\n",
    "```python\n",
    "mi_dicc = {clave1:valor1, clave2:valor2, clave3:valor3}\n",
    "```"
   ]
  },
  {
   "cell_type": "code",
   "execution_count": null,
   "metadata": {},
   "outputs": [],
   "source": []
  },
  {
   "cell_type": "markdown",
   "metadata": {},
   "source": [
    "A diferencia de las listas y las tuplas, cada elemento de un diccionario consta de dos partes: una $clave$ y un $valor$. La función de la clave es la misma que la de la posición en las listas y las tuplas: sirve para utilizar el valor deseado del diccionario.\n",
    "\n",
    "Por ejemplo, para crear un diccionario con constantes físicas, podemos escribir: \n",
    "```python\n",
    "constantes = {'kB' : 1.3806504E-23 , \\\n",
    "              'c0' : 2.99792458E8  , \\\n",
    "              'Nav' : 6.02214179E23}\n",
    "```\n",
    "Fíjate que las barras inclinadas ```\\``` se emplean para romper lineas muy largas y no tiene nada que ver con la definición del diccionario.\n"
   ]
  },
  {
   "cell_type": "code",
   "execution_count": null,
   "metadata": {},
   "outputs": [],
   "source": []
  },
  {
   "cell_type": "markdown",
   "metadata": {},
   "source": [
    "En el diccionario ```constantes``` hemos almacenado la constante de Boltzmann (```kB```), la velocidad de la luz en el vacio (```c0```) y la constante de Avogadro (```Nav```).\n",
    "Para añadir ahora una nueva constante a este diccionario, por ejemplo la de Planck (h), solo tenemos que escribir:\n",
    "```python\n",
    "constantes['h'] = 6.62606896E-34\n",
    "print(constantes)\n",
    "```\n"
   ]
  },
  {
   "cell_type": "code",
   "execution_count": null,
   "metadata": {},
   "outputs": [],
   "source": []
  },
  {
   "cell_type": "markdown",
   "metadata": {},
   "source": [
    "y, de igual manera, para hacer uso de un valor del diccionario, solo hay que emplear la clave adecuada:\n",
    "```python\n",
    "moles = 0.035\n",
    "moleculas = moles * constantes['Nav']\n",
    "print('Tenemos', moleculas, 'moleculas')\n",
    "```"
   ]
  },
  {
   "cell_type": "code",
   "execution_count": null,
   "metadata": {},
   "outputs": [],
   "source": []
  },
  {
   "cell_type": "markdown",
   "metadata": {},
   "source": [
    "__Genera un diccionario llamado ```mi_dicc``` con varios elementos.__"
   ]
  },
  {
   "cell_type": "code",
   "execution_count": 44,
   "metadata": {},
   "outputs": [],
   "source": []
  },
  {
   "cell_type": "markdown",
   "metadata": {},
   "source": [
    "__Ahora ejecuta las siguiente lineas:__\n",
    "```python\n",
    "print(mi_dicc.keys())\n",
    "print(mi_dicc.values())\n",
    "print(mi_dicc.items())\n",
    "```\n"
   ]
  },
  {
   "cell_type": "code",
   "execution_count": null,
   "metadata": {},
   "outputs": [],
   "source": []
  },
  {
   "cell_type": "markdown",
   "metadata": {},
   "source": [
    "__Qué informacion devuelven estos tres métodos propios de los diccionarios?__"
   ]
  },
  {
   "cell_type": "code",
   "execution_count": null,
   "metadata": {},
   "outputs": [],
   "source": []
  },
  {
   "cell_type": "markdown",
   "metadata": {},
   "source": [
    "__Escribe un programa que recorra los elementos (```items```) de un diccionario y que imprima cada uno en una línea propia.__<br>\n",
    "__¿Qué tipo de objeto son los elementos de un diccionario?__"
   ]
  },
  {
   "cell_type": "code",
   "execution_count": null,
   "metadata": {},
   "outputs": [],
   "source": []
  }
 ],
 "metadata": {
  "kernelspec": {
   "display_name": "Python 3",
   "language": "python",
   "name": "python3"
  },
  "language_info": {
   "codemirror_mode": {
    "name": "ipython",
    "version": 3
   },
   "file_extension": ".py",
   "mimetype": "text/x-python",
   "name": "python",
   "nbconvert_exporter": "python",
   "pygments_lexer": "ipython3",
   "version": "3.7.3"
  }
 },
 "nbformat": 4,
 "nbformat_minor": 4
}
