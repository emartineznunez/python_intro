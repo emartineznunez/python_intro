{
 "cells": [
  {
   "cell_type": "markdown",
   "metadata": {},
   "source": [
    "# Python como calculadora científica\n",
    "\n",
    "## Prioridad en las operaciones\n",
    "La prioridad de las operaciones también es la misma que en las calculadoras. Los operadores que se pueden utilizar en operaciones aritméticas se listan en el Cuadro. Los paréntesis $( )$ nos permiten cambiar la prioridad de los operadores.\n",
    "\n",
    "|Operación       | Operador | Prioridad |\n",
    "|----------------|----------|-----------|\n",
    "|Exponenciación  | ```**```     |   1       |\n",
    "|Identidad       | ```+```      |   2       |\n",
    "|Cambio de signo | ```-```      |   2       |\n",
    "|Multiplicación  | ```*```      |   3       |\n",
    "|División        | ```/```      |   3       |\n",
    "|División entera | ```//```     |   3       |\n",
    "|Módulo          | ```%```      |   3       |\n",
    "|Suma            | ```+```      |   4       |\n",
    "|Resta           | ```-```      |   4       |\n"
   ]
  },
  {
   "cell_type": "markdown",
   "metadata": {},
   "source": [
    "En caso de operadores con la misma prioridad, se comienzan a realizar las operaciones por la izquierda. El único caso en el que se comienza a realizar las operaciones por la derecha es la exponenciación. Así \n",
    "```python  \n",
    "2 ** 2 ** 3\n",
    "``` \n",
    "es lo mismo que $2^{(2^3)}=2^8=256$ y no $(2^2)^3=4^3=64$.<br><br>\n",
    "__Escribe en la celda de abajo como se podría obtener 64.__"
   ]
  },
  {
   "cell_type": "code",
   "execution_count": null,
   "metadata": {},
   "outputs": [],
   "source": []
  },
  {
   "cell_type": "markdown",
   "metadata": {},
   "source": [
    "__Haz pruebas con esta operación ```%``` y explica qué es matemáticamente__; ten en cuenta que se opera con ella como con la división, con la que está muy relacionada.<br>\n",
    "__Explica un posible uso de la misma__"
   ]
  },
  {
   "cell_type": "code",
   "execution_count": null,
   "metadata": {},
   "outputs": [],
   "source": []
  },
  {
   "cell_type": "markdown",
   "metadata": {},
   "source": [
    "__Calcula las siguientes expresiones indicando el orden en que se realizan las operaciones:__<br>\n",
    "```2 + 3 * 4 ** 2```<br>\n",
    "```25 * 10 / 5 ** 2```<br>\n",
    "```2 * 26 % 3```<br>\n",
    "```2 + (( 3 - 4) + 8) - 4```<br>\n",
    "```+--+9```<br>\n",
    "```7 // 2 - 1```<br>\n",
    "```6 * 4 / 3 / 2```<br>\n",
    "```-2 ** 4```<br>"
   ]
  },
  {
   "cell_type": "code",
   "execution_count": null,
   "metadata": {},
   "outputs": [],
   "source": []
  },
  {
   "cell_type": "markdown",
   "metadata": {},
   "source": [
    "__Traduce las expresiones de abajo a Python utilizando el menor número de paréntesis:__<br>\n",
    "$2^{2+2^{3}}$<br>\n",
    "$2 - 6^{2} + (-6)^{2}$<br>\n",
    "$(16/4)^{3} - 16/2^{3}$<br>\n",
    "$\\frac{2+3}{1+5}$<br>"
   ]
  },
  {
   "cell_type": "code",
   "execution_count": null,
   "metadata": {},
   "outputs": [],
   "source": []
  },
  {
   "cell_type": "markdown",
   "metadata": {},
   "source": [
    "Para trabajar con funciones trigonométricas, hiperbólicas, raices cuadradas, números como ```pi``` o ```e```, etc. python dispone del módulo ```math```. Por ejemplo, si en nuestro programa queremos utilizar la función ```sin```, ```pi``` y ```e``` escribimos al principio del programa:\n",
    "```python\n",
    "from math import sin,pi,e\n",
    "```\n",
    "Algunas funciones que incluye el módulo son:\n",
    "\n",
    "| Función    &nbsp; &nbsp;    |                     |\n",
    "|-------------------|--------------------------------------|\n",
    "|```log(x)```          | El logaritmo en base $e$ de $x$.     |\n",
    "|```log10(x)```   | El logaritmo en base 10 de $x$.      |\n",
    "|```sqrt(x)```    | La raiz cuadrada de $x$.             |\n",
    "|```sin(x)```          | El seno de $x$.                      |\n",
    "|```cos(x)```          | El coseno de $x$.                    |\n",
    "|```tan(x)```          | La tangente de $x$.                  |\n",
    "|```sinh(x)```         | El seno hiperbólico de $x$.          |\n",
    "|```cosh(x)```         | El coseno hiperbólico de $x$.        |\n",
    "|```tanh(x)```         | La tangente hiperbólica de $x$.      |\n",
    "|```degrees(x)``` | Convierte $x$ de radianes a grados.  |\n",
    "|```radians(x)``` | Convierte $x$ de grados a radianes.  |\n",
    "\n",
    "__Escribe un programa que calcule el área de un círculo de radio = 2 (en unidades arbitrarias)__"
   ]
  },
  {
   "cell_type": "code",
   "execution_count": null,
   "metadata": {},
   "outputs": [],
   "source": []
  }
 ],
 "metadata": {
  "kernelspec": {
   "display_name": "Python 3",
   "language": "python",
   "name": "python3"
  },
  "language_info": {
   "codemirror_mode": {
    "name": "ipython",
    "version": 3
   },
   "file_extension": ".py",
   "mimetype": "text/x-python",
   "name": "python",
   "nbconvert_exporter": "python",
   "pygments_lexer": "ipython3",
   "version": "3.7.5"
  }
 },
 "nbformat": 4,
 "nbformat_minor": 4
}
