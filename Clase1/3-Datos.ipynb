{
 "cells": [
  {
   "cell_type": "markdown",
   "metadata": {},
   "source": [
    "# Tipos de datos\n",
    "\n",
    "## Datos numéricos\n",
    "Los datos numéricos que pueden ser de tipo _entero_ y de _coma flotante_ (o simplemente _flotantes_ ).\n",
    "\n",
    "Los números enteros son aquellos que no tienen parte decimal y el resultado de aplicar las operaciones aritméticas sobre estos números es siempre otro número entero excepto cuando realizamos una división, que puede dar lugar a números decimales.\n",
    "```python\n",
    "7 / 2\n",
    "```"
   ]
  },
  {
   "cell_type": "code",
   "execution_count": null,
   "metadata": {},
   "outputs": [],
   "source": []
  },
  {
   "cell_type": "markdown",
   "metadata": {},
   "source": [
    "Si queremos que Python nos devuelva el resultado con decimales tenemos que utilizar números _flotantes_.<br>\n",
    "Un flotante consta de dos partes: la _mantisa_ y el _exponente_. La mantisa viene especificada por la parte entera más la parte fraccionaria, separadas ambas por un punto. El exponente se utiliza de forma similar a la notación científica de las calculadoras e implica añadir una ```e``` o una ```E``` al final de la mantisa. Algunas formas correctas de expresar el número 2 en formato flotante son: \n",
    "```python\n",
    "2.\n",
    "2.0\n",
    "2e+0\n",
    "2.e-0\n",
    "2E+0\n",
    "0.2e+1\n",
    "20e-1\n",
    "```"
   ]
  },
  {
   "cell_type": "code",
   "execution_count": null,
   "metadata": {},
   "outputs": [],
   "source": []
  },
  {
   "cell_type": "markdown",
   "metadata": {},
   "source": [
    "De la lista anterior podemos destacar, en la línea 1, que con añadir el punto al final del número entero, este ya se transforma en flotante y en las línea 3, 5 y 7, que si especificamos el exponente no es necesario añadir el punto.\n",
    "Si mezclamos números enteros con números flotantes el resultado es el más general posible, esto es, un número flotante. Así,\n",
    "```python\n",
    "7. / 2\n",
    "3.5\n",
    "7 / 2.\n",
    "3.5\n",
    "```"
   ]
  },
  {
   "cell_type": "code",
   "execution_count": null,
   "metadata": {},
   "outputs": [],
   "source": [
    "jhk"
   ]
  },
  {
   "cell_type": "markdown",
   "metadata": {},
   "source": [
    "__Haz los mismos cálculos que en la celda anterior pero usando variables__"
   ]
  },
  {
   "cell_type": "code",
   "execution_count": null,
   "metadata": {},
   "outputs": [],
   "source": []
  },
  {
   "cell_type": "markdown",
   "metadata": {},
   "source": [
    "## Funciones predefinidas\n",
    "Existen algunas funciones predefinidas en Python que permiten trabajar con números sin recurrir al módulo ```math```. La función ```int``` permite obtener la parte entera de un número flotante:\n",
    "```python\n",
    "int(3.6494)\n",
    "3\n",
    "```\n",
    "Es importante resaltar que ```int``` nos da la parte entera del número pero no redondea dicho numero, para realizar dicho cometido empleamos la función ```round```. A continuación se indican varios usos de dicha función:\n",
    "```python\n",
    "round(3.6494)\n",
    "4.0\n",
    "round(3.6494,1)\n",
    "3.6\n",
    "round(3.6494,2)\n",
    "3.65\n",
    "round(3.6494,3)\n",
    "3.649\n",
    "```"
   ]
  },
  {
   "cell_type": "code",
   "execution_count": null,
   "metadata": {},
   "outputs": [],
   "source": []
  },
  {
   "cell_type": "markdown",
   "metadata": {},
   "source": [
    "Por otra parte si queremos transformar un número entero en uno flotante, utilizamos la función ```float```. Por ejemplo,\n",
    "```python\n",
    "float(4)\n",
    "4.0\n",
    "```\n",
    "Otra función que está predefinida en Python es ```abs```, que devuelve el valor absoluto de un número, ya sea entero o flotante. Por ejemplo:\n",
    "```python\n",
    "abs(-2)\n",
    "2\n",
    "abs(2)\n",
    "2\n",
    "abs(-2.)\n",
    "2.0\n",
    "```"
   ]
  },
  {
   "cell_type": "code",
   "execution_count": null,
   "metadata": {},
   "outputs": [],
   "source": []
  },
  {
   "cell_type": "markdown",
   "metadata": {},
   "source": [
    "__Prueba las funciones round, int, float y abs como en los ejemplos de arriba pero usando variables__"
   ]
  },
  {
   "cell_type": "code",
   "execution_count": null,
   "metadata": {},
   "outputs": [],
   "source": []
  },
  {
   "cell_type": "markdown",
   "metadata": {},
   "source": [
    "## Datos tipo cadena\n",
    "Python también permite trabajar con datos de tipo _cadena_. Una _cadena_ (_\"string\"_ en inglés) es una secuencia de caracteres, que puede incluir letras, números, signos de puntuación, espacios, etc., y va encerrada entre comillas (simples o dobles). Un ejemplo es, \n",
    "```python\n",
    "'hola mundo'\n",
    "```"
   ]
  },
  {
   "cell_type": "code",
   "execution_count": 2,
   "metadata": {},
   "outputs": [
    {
     "name": "stdout",
     "output_type": "stream",
     "text": [
      "o volume dunha esfera de radio 5 e de 523.5987755982989\n"
     ]
    }
   ],
   "source": [
    "from math import pi\n",
    "radio = 5\n",
    "volume = 4/3 * pi * radio**3\n",
    "print(\"o volume dunha esfera de radio\",radio,\"e de\",volume)"
   ]
  },
  {
   "cell_type": "markdown",
   "metadata": {},
   "source": [
    "En la cadena de arriba hay que tner en cuenta que hay un espacio en blanco entre hola y mundo. Es muy común asignar variables a cadenas, de la misma forma que hemos hecho con los números. Por ejemplo:\n",
    "```python\n",
    "saludo = 'hola'\n",
    "saludo2 = ' mundo'\n",
    "saludo + saludo2\n",
    "'hola mundo'\n",
    "```"
   ]
  },
  {
   "cell_type": "code",
   "execution_count": 7,
   "metadata": {},
   "outputs": [
    {
     "data": {
      "text/plain": [
       "'33casa'"
      ]
     },
     "execution_count": 7,
     "metadata": {},
     "output_type": "execute_result"
    }
   ],
   "source": [
    "\"33\"+\"casa\""
   ]
  },
  {
   "cell_type": "markdown",
   "metadata": {},
   "source": [
    "El signo '+' entre dos cadenas las concatena, esto es, una cadena se añade al final de la otra, y el efecto es completamente diferente que cuando utilizamos números, así:\n",
    "```python\n",
    "num1 = '2'\n",
    "num2 = '2'\n",
    "num1 + num2\n",
    "'22'\n",
    "```"
   ]
  },
  {
   "cell_type": "code",
   "execution_count": 9,
   "metadata": {},
   "outputs": [
    {
     "data": {
      "text/plain": [
       "100"
      ]
     },
     "execution_count": 9,
     "metadata": {},
     "output_type": "execute_result"
    }
   ],
   "source": [
    "numero1 = \"55\"\n",
    "numero2 = \"45\"\n",
    "int(numero1)+int(numero2)"
   ]
  },
  {
   "cell_type": "markdown",
   "metadata": {},
   "source": [
    "Si queremos transformar las cadenas numéricas del ejemplo en números y después sumarlos lo que tenemos que hacer es utilizar la función ```int```:\n",
    "```python\n",
    "int(num1) + int(num2)\n",
    "4\n",
    "```\n",
    "pero no\n",
    "```python\n",
    "int(num1 + num2)\n",
    "22\n",
    "```"
   ]
  },
  {
   "cell_type": "code",
   "execution_count": 17,
   "metadata": {},
   "outputs": [
    {
     "data": {
      "text/plain": [
       "'4.66'"
      ]
     },
     "execution_count": 17,
     "metadata": {},
     "output_type": "execute_result"
    }
   ],
   "source": [
    "str(4.6)+str(6)"
   ]
  },
  {
   "cell_type": "markdown",
   "metadata": {},
   "source": [
    "porque en el segundo caso concatena primero las dos cadenas y después las transforma a número entero. De la misma forma podríamos transformar una cadena numérica a flotante con la función ```float```.<br>\n",
    "La operación inversa de número a cadena también es posible con la función ```str```. Por ejemplo:\n",
    "```python\n",
    "num1 = 2\n",
    "num2 = 2\n",
    "str(num1) + str(num2)\n",
    "'22'\n",
    "```"
   ]
  },
  {
   "cell_type": "code",
   "execution_count": null,
   "metadata": {},
   "outputs": [],
   "source": []
  },
  {
   "cell_type": "markdown",
   "metadata": {},
   "source": [
    "__Usando variables de tipo cadena escribir una frase que escriba vuestro nombre y edad (Cada variable se correspondería con cada palabra__"
   ]
  },
  {
   "cell_type": "code",
   "execution_count": null,
   "metadata": {},
   "outputs": [],
   "source": []
  },
  {
   "cell_type": "markdown",
   "metadata": {},
   "source": [
    "__Usa dos variables cuyos valores respectivos sean las cadenas ```'2.5'``` y ```'3.7'``` y realiza con ellas la multiplicación y la división__"
   ]
  },
  {
   "cell_type": "code",
   "execution_count": null,
   "metadata": {},
   "outputs": [],
   "source": []
  },
  {
   "cell_type": "markdown",
   "metadata": {},
   "source": [
    "## Datos de tipo lógico\n",
    "Los datos de tipo _lógico_ o _booleano_ solo pueden presentar dos valores: ```True``` (verdadero) o ```False``` (falso).  Python distingue entre mayúsculas y minúsculas y por tanto es importante darse cuenta de que tanto ```True``` como ```False``` comienzan por letra mayúscula. Sobre los datos de tipo lógico actúan los denominados _operadores lógicos_ , que son tres y que si actúan sobre datos o variables lógicas tienen el significado que se indica en a continuación:\n",
    "\n",
    "| Operación | Operador | Significado | Prioridad |\n",
    "|-----------|----------|-------------|-----------|\n",
    "| ```not a``` | ```not``` | ```True``` si y solo si ```a``` es falso | 6 |\n",
    "| ```a and b``` | ```and``` | ```True``` si y solo si ```a``` y ```b```son verdaderos | 7 |\n",
    "| ```a or b``` | ```or``` | ```True``` si ```a``` y/o ```b``` son verdaderos | 8 |\n",
    "\n",
    "Por otra parte para establecer comparaciones tenemos los _operadores de comparación_ que se muestran a continuación. En dicho cuadro se observa que la igualdad se representa por los signos ```==```  y que ```=``` se reserva para la asignación de variables.\n",
    "\n",
    "| Operación | Operador | Significado | Prioridad |\n",
    "|-----------|----------|-------------|-----------|\n",
    "|```a == b``` | ```==``` | ```a``` es igual a ```b``` | 5 |\n",
    "|```a != b``` | ```=!``` | ```a``` es distinto de ```b``` | 5 |\n",
    "|```a > b```  | ```>```  | ```a``` es mayor que ```b``` | 5 |\n",
    "|```a < b```  | ```<```  | ```a``` es menor que ```b``` | 5 |\n",
    "|```a >= b``` | ```>=``` | ```a``` es mayor o igual a ```b``` | 5|\n",
    "|```a <= b``` | ```<=``` | ```a``` es menor o igual a ```b``` | 5|\n",
    "\n",
    "En Python además se pueden hacer varias comparaciones al mismo tiempo:\n",
    "```python\n",
    "2 != 5 > 3\n",
    "```"
   ]
  },
  {
   "cell_type": "code",
   "execution_count": null,
   "metadata": {},
   "outputs": [],
   "source": []
  },
  {
   "cell_type": "markdown",
   "metadata": {},
   "source": [
    "Los operadores lógicos ```and``` y ```or``` empiezan a actuar por la izquierda mientras que ```not``` la hace por la derecha.<br> El ejemplo siguiente muestra el modo de actuar de los operadores lógicos:\n",
    "```python\n",
    "a = 1; b = 2; c = 3; d = 4\n",
    "a == 1 or b == 2 and d == 3 or c == 3\n",
    "True\n",
    "```\n",
    "El desglose de las operaciones se describe a continuación:<br>\n",
    "Fíjate que se usa la función ```print``` para ir imprimiendo los resultados parciales de cada operación. Las ```'''``` se usan para abrir y cerrar comentarios:\n",
    "\n",
    "```python\n",
    "a = 1; b = 2; c = 3; d = 3\n",
    "'''\n",
    "Quedando:\n",
    "\n",
    "True or True and False or True\n",
    "\n",
    "Luego viene \"and\" que tiene mas prioridad que los \"or\"\n",
    "'''\n",
    "print(True and False)\n",
    "\n",
    "'''\n",
    "Quedando: \n",
    "\n",
    "True or False or True\n",
    "\n",
    "Ahora, empezando por la izquierda:\n",
    " '''\n",
    "print(True or False)\n",
    "'''\n",
    "Finalmente\n",
    "''' \n",
    "print(True or True)\n",
    "```\n",
    "__Hacer el mismo desglose de operaciones que arriba para la siguiente (Añade tantas celdas como sean necesarias):__\n",
    "```python\n",
    "a == 2 or b == 3 and d == 3 or c == 3\n",
    "```"
   ]
  },
  {
   "cell_type": "code",
   "execution_count": null,
   "metadata": {},
   "outputs": [],
   "source": []
  },
  {
   "cell_type": "markdown",
   "metadata": {},
   "source": [
    "__Indica el resultado de las siguientes operaciones lógicas:__\n",
    "```python\n",
    "True or 5 < 3\n",
    "7 != 9 and not (False or 3 > 1)\n",
    "True == False\n",
    "True != False\n",
    "True >= True\n",
    "not False and True\n",
    "1 + 1 == 3 or 1 + 1 != 3 and not 1 + 1 > 3\n",
    "1 < 3 > 0 == 0\n",
    "1 < 3 > 0 == True\n",
    "1 + 7 != 7 == abs(-7)\n",
    "```\n",
    "__Haz cada línea en una celda nueva poniendo un comentario con el orden de las operaciones. Ejemplo para la primera:__\n",
    "```python\n",
    "True or 5 < 3   \n",
    "''' \n",
    "primero 5<3 (False); luego True or False (True)\n",
    "'''\n",
    "True\n",
    "```"
   ]
  },
  {
   "cell_type": "code",
   "execution_count": null,
   "metadata": {},
   "outputs": [],
   "source": []
  },
  {
   "cell_type": "code",
   "execution_count": null,
   "metadata": {},
   "outputs": [],
   "source": []
  }
 ],
 "metadata": {
  "kernelspec": {
   "display_name": "Python 3",
   "language": "python",
   "name": "python3"
  },
  "language_info": {
   "codemirror_mode": {
    "name": "ipython",
    "version": 3
   },
   "file_extension": ".py",
   "mimetype": "text/x-python",
   "name": "python",
   "nbconvert_exporter": "python",
   "pygments_lexer": "ipython3",
   "version": "3.7.4"
  }
 },
 "nbformat": 4,
 "nbformat_minor": 4
}
