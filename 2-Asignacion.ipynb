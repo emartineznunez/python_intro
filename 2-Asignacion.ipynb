{
 "cells": [
  {
   "cell_type": "markdown",
   "metadata": {},
   "source": [
    "# Asignación\n",
    "\n",
    "Además de evaluar expresiones matemáticas, también podemos asignar un valor determinado a una variable. La forma de hacerlo es mediante:<br>\n",
    "\n",
    "```python\n",
    "a = 10\n",
    "b = 2\n",
    "c = a + b\n",
    "c\n",
    "12\n",
    "```\n",
    "\n",
    "Prueba estas líneas de código en la celda inferior:"
   ]
  },
  {
   "cell_type": "code",
   "execution_count": null,
   "metadata": {},
   "outputs": [],
   "source": []
  },
  {
   "cell_type": "markdown",
   "metadata": {},
   "source": [
    "Cada línea del programa que hemos tecleado es una _sentencia_.<br>En la _línea 1_ tenemos una asignación: ```a=10```, que no es una ecuación matemática. Indica que __a la variable $a$ se le asigna el valor 10, $a\\leftarrow10$__.<br> __El signo ```=``` en python indica asignación y no igualdad__. "
   ]
  },
  {
   "cell_type": "markdown",
   "metadata": {},
   "source": [
    "El nombre de la variable se denomina _identificador_ y hay unas reglas muy precisas para construir dichos identificadores:<br>\n",
    "-Puede estar formado por una o mas letras y/o números, además de por el signo de subrayado ```_```.<br>\n",
    "-Nunca puede comenzar por un número.<br>\n",
    "-No se puede llamar como las palabras clave reservadas para el lenguaje Python.<br>\n",
    "__Indica si los identificadores siguientes son válidos y por qué:__<br>\n",
    "```_hola```<br>\n",
    "```1hola```<br>\n",
    "```hola```<br>\n",
    "```Hola_```<br>\n",
    "```Hola 1```<br>\n",
    "```hola_buenas_tardes```<br>\n",
    "```buenos_días```<br>\n",
    "```buenos.dias```<br>\n",
    "```1dia```<br>\n",
    "```A12345```<br>\n",
    "```A(B)C```<br>\n",
    "```___k```<br>"
   ]
  },
  {
   "cell_type": "code",
   "execution_count": null,
   "metadata": {},
   "outputs": [],
   "source": []
  },
  {
   "cell_type": "markdown",
   "metadata": {},
   "source": [
    "Normalmente se suelen utilizar identificadores relacionados con el significado de la variable en el problema que queremos resolver. Utilizando lo que hemos visto hasta el momento se puede hacer fácilmente un programa que calcula el área de un círculo de 1.5 cm de radio:<br>\n",
    "```python\n",
    "from math import pi\n",
    "radio = 1.5\n",
    "area  = pi * radio ** 2\n",
    "area\n",
    "```\n",
    "En el ejemplo hemos utilizado los identificadores $radio$ y $area$ para designar el radio y el área del círculo, respectivamente. Prueba este código en la siguiente celda para obtener el valor del área:"
   ]
  },
  {
   "cell_type": "code",
   "execution_count": null,
   "metadata": {},
   "outputs": [],
   "source": []
  },
  {
   "cell_type": "markdown",
   "metadata": {},
   "source": [
    "Unas sentencias muy relacionadas con la asignación de variables y que se utiliza mucho en programación son los _contadores_, que incrementan el valor de una variable de una forma determinada. Así en el programa siguiente se incrementa el valor de la variable $i$ en una unidad:\n",
    "```python\n",
    "i = 10\n",
    "i = i + 1\n",
    "i\n",
    "```\n",
    "Prueba este código en la celda de abajo y trata de entenderlo:"
   ]
  },
  {
   "cell_type": "code",
   "execution_count": null,
   "metadata": {},
   "outputs": [],
   "source": []
  },
  {
   "cell_type": "markdown",
   "metadata": {},
   "source": [
    "En el programa de arriba en la línea 1 se le asigna el valor de 10 a la variable $i$ y en la línea 2 le asignamos a la variable $i$ el valor que tenía anteriormente (esto es, 10) y le sumamos una unidad. Por consiguiente el nuevo valor de la variable $i$ es 11.  Los contadores también se pueden aplicar en la resta, la multiplicación, la división e incluso la exponenciación como se indica a continuación:\n",
    "```python\n",
    "x = x + 1 equivale a x += 1\n",
    "x = x - 1 equivale a x -= 1\n",
    "x = x * 1 equivale a x *= 1\n",
    "x = x / 1 equivale a x /= 1\n",
    "x = x**1  equivale a x **= 1\n",
    "```\n",
    "__1. Escribe un programa que calcule la superficie y el volumen de una esfera de 3.5 cm de radio.__<br>\n",
    "__2. Calcula la diferencia de volumen entre dos esferas de radios 2 y 3 cm, respectivamente__<br>\n",
    "__3. Calcula el área de un rectángulo de lados 376 y 445 cm__<br>\n",
    "__4. Calcula la diferencia entre el área del rectángulo anterior y un cuadrado de lado 399 cm__<br>"
   ]
  },
  {
   "cell_type": "code",
   "execution_count": null,
   "metadata": {},
   "outputs": [],
   "source": []
  }
 ],
 "metadata": {
  "kernelspec": {
   "display_name": "Python 3",
   "language": "python",
   "name": "python3"
  },
  "language_info": {
   "codemirror_mode": {
    "name": "ipython",
    "version": 3
   },
   "file_extension": ".py",
   "mimetype": "text/x-python",
   "name": "python",
   "nbconvert_exporter": "python",
   "pygments_lexer": "ipython3",
   "version": "3.7.3"
  }
 },
 "nbformat": 4,
 "nbformat_minor": 4
}
