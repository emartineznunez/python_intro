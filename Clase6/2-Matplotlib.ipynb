{
 "cells": [
  {
   "cell_type": "markdown",
   "metadata": {},
   "source": [
    "# Representación gráfica: ```Matplotlib```\n",
    "En muchos casos es necesaria la representación de datos obtenidos con nuestros programas. Para ello Python dispone de ```Matplotlib```, una biblioteca que permite la generación de gráficos a partir de datos, que generalmente se encuentran contenidos en listas.<br>\n",
    "```Matplotlib``` usa una interfaz de programación de aplicaciones (abreviada como API en inglés), denominada ```pyplot```,\n",
    "que permite realizar representaciones gráficas similares a las del lenguaje de programación Matlab.<br>\n",
    "Ilustramos con un ejemplo la representación de  las funciones $sin(x)$ y $cos(x)$ en el intervalo $x\\in[0 , 4\\pi]$:\n",
    "```python\n",
    "%matplotlib inline\n",
    "\n",
    "from math       import sin, cos, pi\n",
    "from matplotlib import pyplot\n",
    "valores_x   = [] # inicializar lista valores de x\n",
    "valores_sin = [] # inicializar lista valores de sin(x)\n",
    "valores_cos = [] # inicializar lista valores de cos(x)\n",
    "for i in range(101): # de i=0 a i=100\n",
    "    x = 4 * pi / 100.0 * i        # i=0-->x=0; i=100-->x=4pi\n",
    "    sinx = sin(x)\n",
    "    cosx = cos(x)\n",
    "    valores_x.append(x)\n",
    "    valores_cos.append(cosx)\n",
    "    valores_sin.append(sinx)\n",
    "pyplot.plot(valores_x,valores_sin,'o-',label=\"sin(x)\")\n",
    "pyplot.plot(valores_x,valores_cos,'x' ,label=\"cos(x)\")\n",
    "pyplot.legend()\n",
    "pyplot.xlabel(\"Eje x\")\n",
    "pyplot.ylabel(\"Eje y\")\n",
    "pyplot.title(\"Seno vs Coseno\")\n",
    "pyplot.show() # mostrar grafico\n",
    "```"
   ]
  },
  {
   "cell_type": "code",
   "execution_count": null,
   "metadata": {},
   "outputs": [],
   "source": []
  },
  {
   "cell_type": "markdown",
   "metadata": {},
   "source": [
    "En las líneas 3 a 12 creamos tres listas, en las que guardamos los valores de $x$, $sin(x)$ y $cos(x)$, generados en cada iteración.<br>\n",
    "En las líneas 13 y 14 ```pyplot``` usa la función ```plot()```, que genera un gráfico (o plot en inglés) con los datos de las listas.<br>\n",
    "En la función ```plot()```, el primer argumento se corresponde con la lista de valores del eje de abscisas $x$, el segundo con la lista de valores de la variable dependiente o eje de ordenadas ($sin$ o $cos$), el tercer argumento indica el estilo de la representación de la función (en concreto, ```'o-'``` para círculos unidos por una línea contínua; ```'x'``` para cruces sin unir), y el argumento ```label``` permite etiquetar cada representación en la leyenda, la cual se genera en la línea 15. \n",
    "Para terminar, las últimas líneas definen el texto de los ejes, el título, y ```show()``` muestra la gráfica."
   ]
  },
  {
   "cell_type": "code",
   "execution_count": null,
   "metadata": {},
   "outputs": [],
   "source": []
  },
  {
   "cell_type": "markdown",
   "metadata": {},
   "source": [
    "Como segundo ejemplo, podemos representar la temperatura media por mes en Santiago de Compostela a lo largo del año, al igual que las mínimas y las máximas:\n",
    "```python\n",
    "%matplotlib inline\n",
    "\n",
    "from matplotlib import pyplot\n",
    "meses_numero = range(12)\n",
    "meses_texto = [\"Ene\",\"Feb\",\"Mar\",\"Abr\",\\\n",
    "             \"May\",\"Jun\",\"Jul\",\"Ago\",\\\n",
    "             \"Sep\",\"Oct\",\"Nov\",\"Dic\"]\n",
    "tmin  = [ 5.4, 5.7, 7.4, 8.4,10.4,13.1,\\\n",
    "         14.9,16.3,13.9,11.0, 7.9, 5.8]\n",
    "tmed  = [ 8.7, 9.1,10.9,12.0,14.1,16.9,\\\n",
    "         18.7,20.3,17.6,14.6,11.2, 9.1]\n",
    "tmax  = [12.0,12.5,14.4,15.7,17.9,20.7,\\\n",
    "         22.5,24.3,21.4,18.2,14.5,12.5]\n",
    "pyplot.plot(meses_numero,tmin,'--bx',label='min'  )\n",
    "pyplot.plot(meses_numero,tmed, '-ko',label='media')\n",
    "pyplot.plot(meses_numero,tmax,'--rx',label='max'  )\n",
    "pyplot.legend()\n",
    "pyplot.xlabel(\"Mes\")\n",
    "pyplot.ylabel(\"Temperatura [Grados Celsius]\")\n",
    "pyplot.xticks(meses_numero,meses_texto)\n",
    "pyplot.show()\n",
    "```"
   ]
  },
  {
   "cell_type": "code",
   "execution_count": null,
   "metadata": {},
   "outputs": [],
   "source": []
  },
  {
   "cell_type": "markdown",
   "metadata": {},
   "source": [
    "Como novedad con respecto al ejemplo anterior, podemos destacar que:\n",
    "\n",
    "1. La cadena ```'--bx'``` indica que se debe utilizar el color azul (```'b'``` de __b__lue), con cruces (```x```) unidas por líneas discontinuas ```'--'```.\n",
    "2. La cadena  ```'-kx'``` indica que se debe utilizar el color negro (```'k'``` de blac __k__), con círculos ```'o'``` unidos por líneas continuas ```'-'```.\n",
    "3. La cadena ```'--rx'``` indica lo mismo que la cadena ```'--bx'```, pero empleando el color rojo (```'r'``` de __r__ed).\n",
    "4. Con ```pyplot.xticks``` podemos poner cadenas (definidas en ```meses_texto``` en las posiciones deseadas del eje x (las definidas por ```meses_numero```)\n"
   ]
  },
  {
   "cell_type": "code",
   "execution_count": null,
   "metadata": {},
   "outputs": [],
   "source": []
  },
  {
   "cell_type": "markdown",
   "metadata": {},
   "source": [
    "## Tratamiento de datos\n",
    "El siguiente programa hace un ajuste de mínimos cuadrados lineales. Se trata de determinar los coeficientes $a$ y $b$ de la ecuación lineal $ax+b$, que se ajusta a $n$ puntos $(x_{i}, y_{i})$. El programa incluye el cálculo del coeficiente de correlación de Pearson. Estas son las ecuaciones:<br>\n",
    "\n",
    "\\begin{equation}\n",
    "a=\\frac{n\\sum x_{i}y_{i}-\\sum x_{i}\\sum y_{i}}{n\\sum x_i^{2}- \\left( \\sum x_{i}\\right)^{2}} \n",
    "\\end{equation}\n",
    "\n",
    "\\begin{equation}\n",
    "b=\\frac{\\sum y_{i}-a\\sum x_{i}}{n} \n",
    "\\end{equation}\n",
    "\n",
    "\\begin{equation}\n",
    "r=\\frac{n \\sum x_{i}y_{i}-\\sum x_{i}\\sum y_{i}}{\\sqrt{ \\left( n \\sum x_{i}^{2}- \\left( \\sum x_{i}\\right)^{2} \\right) \\left(n \\sum y_{i}^2- \\left( \\sum y_{i}\\right)^{2} \\right) }}\n",
    "\\end{equation}\n",
    "\n",
    "La función de Python que implementa estas ecuaciones es la siguiente:\n",
    "```python\n",
    "def ajuste(x,y):\n",
    "    '''\n",
    "    Función que hace un ajuste de minimos cuadrados lineales de \n",
    "    acuerdo a las ecuaciones de arriba\n",
    "    x e y son los datos de entrada (arrays de numpy)\n",
    "    El ajuste es a una ecuación lineal: a * x + b\n",
    "    '''\n",
    "    sumx  = sum(x)     ; sumy  = sum(y)\n",
    "    sumx2 = sum(x * x) ; sumy2 = sum(y * y)\n",
    "    sumxy = sum(x * y) ; xave  = sumx / len(x)\n",
    "    a = (len(x) * sumxy - sumx * sumy) / (len(x) * sumx2 - sumx ** 2)\n",
    "    b = (sumy - a * sumx) / len(x)\n",
    "    r = (len(x) * sumxy - sumx * sumy) / ((len(x) * sumx2 - sumx ** 2) * (len(x) * sumy2 - sumy ** 2)) ** 0.5\n",
    "    return a , b , r\n",
    "```\n",
    "Fíjate que los arrays de numpy (x e y) son mucho más potentes que las listas y nos permiten hacer operaciones que en las listas no es posible hacer."
   ]
  },
  {
   "cell_type": "code",
   "execution_count": null,
   "metadata": {},
   "outputs": [],
   "source": []
  },
  {
   "cell_type": "markdown",
   "metadata": {},
   "source": [
    "Con la función de arriba podríamos resolver el siguiente problema:<br>\n",
    "La viscosidad reducida $\\eta$ (en unidades arbitrarias) a 25ºC de una muestra de polibencil-L-glutamato (PG) (en unidades arbitrarias) disuelta en ácido dicloacético varía con la concentración de la disolución de la siguiente manera:\n",
    "\n",
    "\n",
    "| $[PG]$    &nbsp;&nbsp;         | $\\eta$   |\n",
    "|-------------------|----------|\n",
    "|  1.04     &nbsp;&nbsp;         | 0.0942   |\n",
    "|  1.40     &nbsp;&nbsp;         | 0.0950   |\n",
    "|  2.08     &nbsp;&nbsp;         | 0.0962   |\n",
    "|  2.60     &nbsp;&nbsp;         | 0.0973   |\n",
    "|  3.10     &nbsp;&nbsp;         | 0.0981   |\n",
    "|  3.68     &nbsp;&nbsp;         | 0.0992   |\n",
    "\n",
    "\n",
    "Usando el mismo programa que en los ejercicios anteriores, se puede determinar la viscosidad intrínseca del PG, sabiendo que se puede calcular como el valor de $\\eta$ para $[PG]=0$. También podríamos hacer una representación gráfica. Para ejecutar este programa primero necesitamos subir el fichero ```viscosidad.csv```.\n",
    "```python\n",
    "%matplotlib inline\n",
    "import numpy as np\n",
    "from matplotlib import pyplot\n",
    "\n",
    "#cargamos los datos de viscosidad\n",
    "file = 'viscosidad.csv'\n",
    "x, y = np.loadtxt(file , delimiter = ',',skiprows = 1, unpack = True)\n",
    "a, b , r = ajuste(x,y)\n",
    "\n",
    "#Imprimimos los resultados\n",
    "print(\"Ajuste    : \",round(a,4),\"* x +\",round(b,4))\n",
    "print(\"Valor de r: \",round(r,5))\n",
    "\n",
    "#Hacemos la gráfica\n",
    "fit = a * x + b\n",
    "pyplot.plot(x,y,'o',label=\"data\")\n",
    "pyplot.plot(x,fit,'-',label=\"fit\")\n",
    "pyplot.xlim(0,4)\n",
    "pyplot.legend()\n",
    "pyplot.show()\n",
    "```"
   ]
  },
  {
   "cell_type": "code",
   "execution_count": null,
   "metadata": {},
   "outputs": [],
   "source": []
  },
  {
   "cell_type": "markdown",
   "metadata": {},
   "source": [
    "Los datos que se recogen en la siguiente tabla corresponden a la reacción de formación de urea a partir de cianato amónico (CA): \n",
    "\n",
    "|  $t$   &nbsp;&nbsp;   | $[CA]^{-1}$  |\n",
    "|----------|----------------|\n",
    "|    0   &nbsp;&nbsp;   | 2.620   &nbsp;&nbsp;   |\n",
    "|   20   &nbsp;&nbsp;   | 3.774   &nbsp;&nbsp;   |\n",
    "|\t50   &nbsp;&nbsp;   | 5.556   &nbsp;&nbsp;   |\n",
    "|\t65   &nbsp;&nbsp;   | 6.593   &nbsp;&nbsp;   |\n",
    "|\t150  &nbsp;&nbsp;   | 11.538  &nbsp;&nbsp;   |\n",
    "\n",
    "La reacción es de orden dos y por tanto la ecuación de velocidad es la siguiente:\n",
    "\\begin{equation}\n",
    "\\frac{1}{[CA]_{t}}-\\frac{1}{[CA]_0}=kt\n",
    "\\end{equation}\n",
    "\n",
    "donde $t$ es el tiempo en minutos, $[CA]$ es la concentración de A en M, y $k$ es la constante de velocidad.\n",
    "\n",
    "__Usando el mismo programa que en el ejercicio anterior, determina el valor de la constante de velocidad.__"
   ]
  },
  {
   "cell_type": "code",
   "execution_count": null,
   "metadata": {},
   "outputs": [],
   "source": []
  }
 ],
 "metadata": {
  "kernelspec": {
   "display_name": "Python 3",
   "language": "python",
   "name": "python3"
  },
  "language_info": {
   "codemirror_mode": {
    "name": "ipython",
    "version": 3
   },
   "file_extension": ".py",
   "mimetype": "text/x-python",
   "name": "python",
   "nbconvert_exporter": "python",
   "pygments_lexer": "ipython3",
   "version": "3.7.3"
  }
 },
 "nbformat": 4,
 "nbformat_minor": 4
}
