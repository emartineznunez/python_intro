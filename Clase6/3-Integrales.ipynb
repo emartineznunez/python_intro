{
 "cells": [
  {
   "cell_type": "markdown",
   "metadata": {},
   "source": [
    "# Integrales\n",
    "Para hacer integrales por el método de los trapecios https://es.wikipedia.org/wiki/Regla_del_trapecio podríamos usar la siguiente función que usa arrays de numpy:\n",
    "```python\n",
    "import numpy as np\n",
    "def trapz(f,a,b,m=50):\n",
    "    '''\n",
    "    Integral por el método de los trapecios\n",
    "    '''\n",
    "    x = np.linspace(a,b,m+1) # N+1 points make N subintervals\n",
    "    y = f(x)\n",
    "    y_right = y[1:] # right endpoints\n",
    "    y_left = y[:-1] # left endpoints\n",
    "    dx = (b - a) / m\n",
    "    T = (dx/2) * np.sum(y_right + y_left)\n",
    "    return T\n",
    "```\n",
    "Esta función se podría llamar de esta manera:\n",
    "\n",
    "```python\n",
    "trapz(np.sin,0,np.pi/2,1000)\n",
    "```\n",
    "donde ```np.sin``` es la función que quiero integrar, ```0``` y ```np.pi``` son los límites de la integral y ```1000``` es el número de divisiones que usamos para hacer la integral (valor de $m$).<br>\n",
    "\n",
    "\\begin{equation}\n",
    "\\int_{a}^{b}f(x)dx = \\left( \\frac{b-a}{m} \\right) \\left( \\frac{f(a)+f(b)}{2}+\\sum_{k=1}^{m-1}f \\left(a+k\\frac{b-a}{m}   \\right)        \\right)\n",
    "\\end{equation}\n",
    "\n",
    "Ejecuta esta función en la casilla de abajo y a continuación haz pruebas con varias funciones trigonmétricas y límites de integración."
   ]
  },
  {
   "cell_type": "code",
   "execution_count": null,
   "metadata": {},
   "outputs": [],
   "source": []
  },
  {
   "cell_type": "code",
   "execution_count": null,
   "metadata": {},
   "outputs": [],
   "source": []
  },
  {
   "cell_type": "code",
   "execution_count": null,
   "metadata": {},
   "outputs": [],
   "source": []
  },
  {
   "cell_type": "code",
   "execution_count": null,
   "metadata": {},
   "outputs": [],
   "source": []
  },
  {
   "cell_type": "code",
   "execution_count": null,
   "metadata": {},
   "outputs": [],
   "source": []
  },
  {
   "cell_type": "markdown",
   "metadata": {},
   "source": [
    "La función ```trapz``` se puede evaluar la integral del cuadrado de la __función de onda de la partícula en una caja__<br>\n",
    "\n",
    "La partícula en una caja es uno de los modelos que se usa en mecánica cuántica. La función de onda para dicho sistema es esta:\n",
    "\n",
    "\\begin{equation}\n",
    "f(x) = \\sqrt{\\frac{2}{L}}\\sin(n\\pi x/L)\n",
    "\\end{equation}\n",
    "\n",
    "donde $L$ es la longitud de la caja y $n$ el número cuántico. Si la función de onda está normalizada (y esta es real), esto implica que se cumple lo siguiente:\n",
    "\\begin{equation}\n",
    "\\int_{0}^{L} f^{2} dx = 1\n",
    "\\end{equation}\n",
    "El siguiente código evaluaría dicha integral:\n",
    "```python\n",
    "import numpy as np\n",
    "def f(x):\n",
    "    f = 2/L * np.sin( n * np.pi * x / L) ** 2\n",
    "    return f\n",
    "L = float(input(\"Longitud de la caja: \"))\n",
    "n = int(input(\"Número cuantico: \"))\n",
    "m = int(input(\"Número de puntos: \"))\n",
    "print(trapz(f,0,L,m))\n",
    "```\n",
    "__Prueba en las casillas de abajo el código para varios valores de ```n```, ```L``` y ```m```.__"
   ]
  },
  {
   "cell_type": "code",
   "execution_count": null,
   "metadata": {},
   "outputs": [],
   "source": []
  },
  {
   "cell_type": "code",
   "execution_count": null,
   "metadata": {},
   "outputs": [],
   "source": []
  },
  {
   "cell_type": "markdown",
   "metadata": {},
   "source": [
    "__Usando el programa del ejercicio anterior ligeramente modificado para determinar la probabilidad de encontrar a la partícula en una caja de longitud $L$ que se encuentre entre $0.31L$ y $0.35L$ en el estado fundamental ($n = 1$) y en el segundo estado excitado ($n = 3$).__"
   ]
  },
  {
   "cell_type": "code",
   "execution_count": null,
   "metadata": {},
   "outputs": [],
   "source": []
  },
  {
   "cell_type": "code",
   "execution_count": null,
   "metadata": {},
   "outputs": [],
   "source": []
  },
  {
   "cell_type": "markdown",
   "metadata": {},
   "source": [
    "__Siguiendo con la partícula en una caja, calcula ahora los valores medios de $x$ y de $x^2$. Verifica tu resultado comparándolo con el exacto:<br>__\n",
    "\n",
    "\\begin{equation}\n",
    "<x>=\\int_{0}^{L} xf^{2} dx=\\frac{L}{2}\n",
    "\\end{equation}\n",
    "    \n",
    "\\begin{equation}\n",
    "<x^{2}>=\\int_{0}^{L} x^{2}f^{2} dx=L^{2}\\left( \\frac{1}{3} - \\frac{1}{2n^{2}\\pi^{2}}\\right)\n",
    "\\end{equation}"
   ]
  },
  {
   "cell_type": "code",
   "execution_count": 2,
   "metadata": {},
   "outputs": [],
   "source": []
  },
  {
   "cell_type": "code",
   "execution_count": null,
   "metadata": {},
   "outputs": [],
   "source": []
  },
  {
   "cell_type": "markdown",
   "metadata": {},
   "source": [
    "__Usando parte del programa del ejercicio para determinar la integral de la función $f(x)=x^{3}$ en los intervalos $0-5$, $0-10$, $0-15$ y $0-20$ con valores de $m$ desde $100$ hasta $1000$ variando de $100$ en $100$. Utiliza bucles__"
   ]
  },
  {
   "cell_type": "code",
   "execution_count": null,
   "metadata": {},
   "outputs": [],
   "source": []
  },
  {
   "cell_type": "code",
   "execution_count": null,
   "metadata": {},
   "outputs": [],
   "source": []
  },
  {
   "cell_type": "markdown",
   "metadata": {},
   "source": [
    "__Usando parte del programa del ejercicio para determinar la integral de la función  $𝑓(𝑥)=a+bx+c𝑥^{2}$ donde $a$, $b$ y $c$ los introduce el usuario, así como los límites de integración $a-b$; usa $m=1000$.__"
   ]
  },
  {
   "cell_type": "code",
   "execution_count": null,
   "metadata": {},
   "outputs": [],
   "source": []
  },
  {
   "cell_type": "code",
   "execution_count": null,
   "metadata": {},
   "outputs": [],
   "source": []
  }
 ],
 "metadata": {
  "kernelspec": {
   "display_name": "Python 3",
   "language": "python",
   "name": "python3"
  },
  "language_info": {
   "codemirror_mode": {
    "name": "ipython",
    "version": 3
   },
   "file_extension": ".py",
   "mimetype": "text/x-python",
   "name": "python",
   "nbconvert_exporter": "python",
   "pygments_lexer": "ipython3",
   "version": "3.7.3"
  }
 },
 "nbformat": 4,
 "nbformat_minor": 4
}
