{
 "cells": [
  {
   "cell_type": "markdown",
   "metadata": {},
   "source": [
    "# Lectura de datos: ```loadtxt```\n",
    "Python dispone de un sistema de lectura y escritura de ficheros bastante sofisticado, pero aquí nos limitaremos a indicar cómo se lee un conjunto de datos numéricos que se encuentran guardados en un fichero. Una de las funciones más sencillas y versátiles para el tratamiento de datos es ```loadtxt``` que pertenece al módulo Numpy. La sintaxis de dicha función, en el momento en el que se ha realizado dicho manual, es la siguiente:\n",
    "```python\n",
    "numpy.loadtxt(fname , dtype=<type 'float'>, comments='#',\n",
    "         delimiter=None , converters=None , skiprows=0,\n",
    "         usecols=None , unpack=False , ndmin=0)\n",
    "```\n"
   ]
  },
  {
   "cell_type": "markdown",
   "metadata": {},
   "source": [
    "Todos los argumentos de la función son opcionales y tienen un valor por defecto excepto ```fname```, que tiene que ser suministrado por el usuario. Los argumentos se explican en la siguiente tabla:<br>\n",
    "\n",
    "| Argumento | Explicación |\n",
    "|-----------|-------------|\n",
    "|```fname```      |El nombre del fichero del que se leen los datos|\n",
    "|```dtype```  |Tipo de datos que se van a leer (```'float'```)|\n",
    "|```comments``` |Las lineas con comenterios empiezan por ```'#'```|\n",
    "|```delimiter``` |Separación entre datos (espacios en blanco)|\n",
    "|```converters``` | Diccionario utilizado para convertir datos (ninguno)|\n",
    "|```skiprows``` |Saltar lineas (ninguna)|\n",
    "|```usecols``` |Columnas a leer (todas)|\n",
    "|```unpack``` |Desempaquetar los datos (falso)|\n",
    "|```ndmin``` |Número mínimo de dimensiones (cero)|"
   ]
  },
  {
   "cell_type": "markdown",
   "metadata": {},
   "source": [
    "Como ejemplo, sube el fichero ```data.txt``` y ejecuta el siguiente programa:\n",
    "```python\n",
    "import numpy as np\n",
    "x, y = np.loadtxt('data.txt' , usecols = (1,2), unpack = True)\n",
    "print(x)\n",
    "print(y)\n",
    "```"
   ]
  },
  {
   "cell_type": "code",
   "execution_count": null,
   "metadata": {},
   "outputs": [],
   "source": []
  },
  {
   "cell_type": "markdown",
   "metadata": {},
   "source": [
    "El resultado son dos listas; la primera con los elementos ```[ 0. 20. 50.]``` y la segunda con los elementos ```[ 2.62 3.774 5.556]```. El argumento ```usecols = (1,2)``` indica que la función lee las columnas 1 y 2 ignorando la columna cero (recuerda que Python empieza a contar en cero) y con ```unpack = True``` nos aseguramos de que la primera columna corresponde al objeto denominado ```x``` y la segunda columna al objeto denominado ```y```. Tanto ```x``` como ```y``` son ```arrays``` de ```numpy``` (que son parecidos a las listas pero con los que se pueden hacer muchas más operaciones) y contienen una serie de números tipo ```float``` que pueden ser utilizados posteriormente por el programa. "
   ]
  },
  {
   "cell_type": "code",
   "execution_count": null,
   "metadata": {},
   "outputs": [],
   "source": []
  },
  {
   "cell_type": "markdown",
   "metadata": {},
   "source": [
    "También se pueden leer ficheros generados por Excel en formato csv (\"comma separated values\"), que como indica la extensión, los datos están separados por comas. Sube el fichero ```data.csv``` y ejecuta el siguiente código:\n",
    "```python\n",
    "import numpy as np\n",
    "x, y = np.loadtxt('data.csv' , delimiter = ',', usecols = (1,2), unpack = True)\n",
    "print(x)\n",
    "print(y)\n",
    "```"
   ]
  },
  {
   "cell_type": "code",
   "execution_count": null,
   "metadata": {},
   "outputs": [],
   "source": []
  }
 ],
 "metadata": {
  "kernelspec": {
   "display_name": "Python 3",
   "language": "python",
   "name": "python3"
  },
  "language_info": {
   "codemirror_mode": {
    "name": "ipython",
    "version": 3
   },
   "file_extension": ".py",
   "mimetype": "text/x-python",
   "name": "python",
   "nbconvert_exporter": "python",
   "pygments_lexer": "ipython3",
   "version": "3.7.3"
  }
 },
 "nbformat": 4,
 "nbformat_minor": 4
}
