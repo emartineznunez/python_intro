{
 "cells": [
  {
   "cell_type": "markdown",
   "metadata": {},
   "source": [
    "# Estructuras de control\n",
    "Las _estructuras de control_ de un programa son aquellas que permiten tener un dominio sobre una o varias sentencias que se ejecutan en un programa, de tal forma que podamos decidir que instrucciones se ejecutan y cuantas veces. Las estructuras de control permiten alterar el orden de ejecución de algunas partes del programa, que de otro modo sería completamente secuencial (una línea tras otra).<br>\n",
    "\n",
    "Se pueden dividir en dos grandes grupos: _condicionales_ e _iterativas_. Las  sentencias condicionales hacen que se ejecute un grupo u otro de sentencias dentro de un programa, mientras que las sentencias iterativas (también denominadas _bucles_) hacen que un grupo de sentencias se ejecute un número determinado de veces.\n",
    "## Sentencias condicionales\n",
    "La sentencia condicional por excelencia en la mayoría de los lenguajes de programación es ```if```, aunque la sintaxis varía ligeramente de un lenguaje a otro. En Python la sintaxis más sencilla de la sentencia ```if``` (con los comentarios en inglés) es:\n",
    "```python\n",
    "if condition: \n",
    "    statement(s)\n",
    "Rest of the program\n",
    "```\n",
    "donde ```condition``` es la condición lógica, que si se cumple, hace que el programa ejecute las sentencias (\"statements\" en inglés) que tienen una _sangría_ o _indentación_ (desplazadas a la derecha) con respecto al resto del programa. Por otra parte, Python necesita saber cuando se termina la condición lógica, por lo que al final hay que poner dos puntos ```:```. Un ejemplo es un programa que devuelve el valor absoluto de un número entero. Aunque ya existe la función ```abs``` para realizar esa tarea, es interesante realizar el ejercicio para ver como funciona la sentencia ```if```.\n",
    "```python\n",
    "# programa que devuelve el valor absoluto\n",
    "# de un numero entero\n",
    "num = int(input('Numero = '))\n",
    "absnum = num\n",
    "if num < 0:\n",
    "    absnum = - num\n",
    "print('El valor absoluto de ',num,' es ',absnum)\n",
    "```\n"
   ]
  },
  {
   "cell_type": "code",
   "execution_count": null,
   "metadata": {},
   "outputs": [],
   "source": []
  },
  {
   "cell_type": "markdown",
   "metadata": {},
   "source": [
    "Normalmente la sentencia ```if``` va acompañada de la sentencia ```else```, de tal forma que hay una bifurcación en el programa. Si se cumple la condición que acompaña a ```if``` entonces el programa hace una cosa y en otro caso (de ahí la sentencia ```else```) hace otra cosa.<br>\n",
    "El ejemplo de obtener el valor absoluto de un número utilizando ```else``` sería:\n",
    "```python\n",
    "'''\n",
    "programa que devuelve el valor absoluto\n",
    "de un numero entero\n",
    "'''\n",
    "num = int(input('Numero = '))\n",
    "if num < 0:\n",
    "    absnum = -num\n",
    "else:\n",
    "    absnum = num\n",
    "print('El valor absoluto de ',num,' es ',absnum)\n",
    "```"
   ]
  },
  {
   "cell_type": "code",
   "execution_count": null,
   "metadata": {},
   "outputs": [],
   "source": []
  },
  {
   "cell_type": "markdown",
   "metadata": {},
   "source": [
    "__Haz un programa que nos diga si un número (introducido por el usuario por teclado) es par o impar.__"
   ]
  },
  {
   "cell_type": "code",
   "execution_count": null,
   "metadata": {},
   "outputs": [],
   "source": []
  },
  {
   "cell_type": "markdown",
   "metadata": {},
   "source": [
    "Las sentencias de control pueden anidarse, de tal forma que una sentencia de control interna dependa a su vez de una sentencia de control externa. Por ejemplo este es el caso de un programa que ordena 3 números enteros diferentes de mayor a menor es:\n",
    "```python\n",
    "'''\n",
    "programa que ordena tres números \n",
    "introducidos por el usuario\n",
    "'''\n",
    "n1 = int(input('Numero 1, n1 ='))\n",
    "n2 = int(input('Numero 2, n2 ='))\n",
    "n3 = int(input('Numero 3, n3 ='))\n",
    "if n1 > n2 and n1 > n3:\n",
    "    if n2 > n3:\n",
    "        print(n1,' > ',n2,' > ',n3) \n",
    "    else:\n",
    "        print(n1,' > ',n3,' > ',n2)\n",
    "else:\n",
    "    if n2 > n1 and n2 > n3:\n",
    "        if n1 > n3:\n",
    "            print(n2,' > ',n1,' > ',n3) \n",
    "        else:\n",
    "            print(n2,' > ',n3,' > ',n1)\n",
    "    else:\n",
    "        if n1 > n2:\n",
    "            print(n3,' > ',n1,' > ',n2) \n",
    "        else:\n",
    "            print(n3,' > ',n2,' > ',n1) \n",
    "```"
   ]
  },
  {
   "cell_type": "code",
   "execution_count": null,
   "metadata": {},
   "outputs": [],
   "source": []
  },
  {
   "cell_type": "markdown",
   "metadata": {},
   "source": [
    "En Python existe una forma de encadenar sentencias de control condicionales como la que tenemos en el programa anterior, de forma abreviada y los ```else: if``` se pueden escribir como ```elif```. Abajo vemos que con la sentencia ```elif``` el programa es más sencillo de leer por parte del programador.\n",
    "```python\n",
    "'''\n",
    "programa que ordena tres números \n",
    "introducidos por el usuario\n",
    "'''\n",
    "n1 = int(input('Numero 1, n1 = '))\n",
    "n2 = int(input('Numero 2, n2 = '))\n",
    "n3 = int(input('Numero 3, n3 = '))\n",
    "if n1 > n2 and n1 > n3:\n",
    "    if n2 > n3:\n",
    "        print(n1,' > ',n2,' > ',n3) \n",
    "    else:\n",
    "        print(n1,' > ',n3,' > ',n2)\n",
    "elif n2 > n1 and n2 > n3:\n",
    "    if n1 > n3:\n",
    "        print(n2,' > ',n1,' > ',n3) \n",
    "    else:\n",
    "        print(n2,' > ',n3,' > ',n1)\n",
    "elif n1 > n2:\n",
    "    print(n3,' > ',n1,' > ',n2) \n",
    "else:\n",
    "    print(n3,' > ',n2,' > ',n1) \n",
    "```\n"
   ]
  },
  {
   "cell_type": "code",
   "execution_count": null,
   "metadata": {},
   "outputs": [],
   "source": []
  },
  {
   "cell_type": "markdown",
   "metadata": {},
   "source": [
    "Un programa para dar las notas de aprobado y suspenso a partir de la nota numérica sería el siguiente:\n",
    "```python\n",
    "'''\n",
    "programa que proporciona la nota (aprobado o suspenso) \n",
    "a partir de su valor numérico\n",
    "'''\n",
    "nota_numerica = float(input('Dame tu nota = '))\n",
    "if nota_numerica >= 5:\n",
    "    nota = 'Aprobado'\n",
    "else:\n",
    "    nota = 'Suspenso'\n",
    "print('Tu nota es ',nota) \n",
    "```"
   ]
  },
  {
   "cell_type": "code",
   "execution_count": null,
   "metadata": {},
   "outputs": [],
   "source": []
  },
  {
   "cell_type": "markdown",
   "metadata": {},
   "source": [
    "__Basándote en el programa anterior, escribe uno que de las notas en suspenso, aprobado, notable y sobresaliente partiendo de la nota numérica proporcionada desde teclado__"
   ]
  },
  {
   "cell_type": "code",
   "execution_count": null,
   "metadata": {},
   "outputs": [],
   "source": []
  },
  {
   "cell_type": "markdown",
   "metadata": {},
   "source": [
    "__Basándote en el programa anterior, escribe uno que de las notas en suspenso, aprobado, notable y sobresaliente partiendo de la notas numéricas (de la continua y examen) proporcionadas desde teclado. Nota: supón que para la nota final cuenta un 40% la continua y un 60% el examen__"
   ]
  },
  {
   "cell_type": "code",
   "execution_count": null,
   "metadata": {},
   "outputs": [],
   "source": []
  },
  {
   "cell_type": "markdown",
   "metadata": {},
   "source": [
    "__Utilizando el condicional ```if``` haz un programa en el que el usuario introduzca las cadenas ```'area'``` o ```'longitud'``` y que dependiendo de\n",
    "la elección calcule el área o la longitud de una circunferencia de un radio determinado (proporcionado por el usuario también).__"
   ]
  },
  {
   "cell_type": "code",
   "execution_count": null,
   "metadata": {},
   "outputs": [],
   "source": []
  },
  {
   "cell_type": "markdown",
   "metadata": {},
   "source": [
    "__Utilizando las sentencias de control ```if...else``` haz un programa que indique si la solución de la ecuación de segundo grado del tipo $ax^{2} + bx + c = 0$ será real o imaginaria.__"
   ]
  },
  {
   "cell_type": "code",
   "execution_count": null,
   "metadata": {},
   "outputs": [],
   "source": []
  },
  {
   "cell_type": "markdown",
   "metadata": {},
   "source": [
    "__Utilizando las sentencias de control ```if...else``` haz un programa que resuelva la ecuación de segundo grado del tipo $ax^{2} + bx + c = 0$.__"
   ]
  },
  {
   "cell_type": "code",
   "execution_count": null,
   "metadata": {},
   "outputs": [],
   "source": []
  }
 ],
 "metadata": {
  "kernelspec": {
   "display_name": "Python 3",
   "language": "python",
   "name": "python3"
  },
  "language_info": {
   "codemirror_mode": {
    "name": "ipython",
    "version": 3
   },
   "file_extension": ".py",
   "mimetype": "text/x-python",
   "name": "python",
   "nbconvert_exporter": "python",
   "pygments_lexer": "ipython3",
   "version": "3.7.3"
  }
 },
 "nbformat": 4,
 "nbformat_minor": 4
}
