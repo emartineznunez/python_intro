{
 "cells": [
  {
   "cell_type": "markdown",
   "metadata": {},
   "source": [
    "# Entrada/salida de datos\n",
    "\n",
    "## Entrada desde teclado: ```input()```\n",
    "Normalmente cuando realizamos un programa de ordenador introducimos una serie de datos que nuestro programa procesa y nos devuelve unos resultados que queremos imprimir por pantalla o a un fichero. Para la realización de estas tareas están las instrucciones de entrada/salida (o \"input/output\" en inglés). Para la lectura desde teclado en vamos a utilizar la función ```input```. Ejemplo (ejecuta cada línea en una casilla distinta):\n",
    "```python\n",
    "nombre = input('¿Cual es tu nombre? ')\n",
    "nombre\n",
    "```"
   ]
  },
  {
   "cell_type": "code",
   "execution_count": null,
   "metadata": {},
   "outputs": [],
   "source": []
  },
  {
   "cell_type": "code",
   "execution_count": null,
   "metadata": {},
   "outputs": [],
   "source": []
  },
  {
   "cell_type": "markdown",
   "metadata": {},
   "source": [
    "Fijate en este otro ejemplo (ejecutando cada línea en una casilla distinta):\n",
    "```python\n",
    "edad = int(input('¿Cual es tu edad? '))\n",
    "edad\n",
    "```"
   ]
  },
  {
   "cell_type": "code",
   "execution_count": null,
   "metadata": {},
   "outputs": [],
   "source": []
  },
  {
   "cell_type": "code",
   "execution_count": null,
   "metadata": {},
   "outputs": [],
   "source": []
  },
  {
   "cell_type": "markdown",
   "metadata": {},
   "source": [
    "__Según lo visto en los ejemplos anteriores, ¿que tipo de datos devuelve input?__"
   ]
  },
  {
   "cell_type": "code",
   "execution_count": null,
   "metadata": {},
   "outputs": [],
   "source": []
  },
  {
   "cell_type": "markdown",
   "metadata": {},
   "source": [
    "## Salida por pantalla: ```print()```\n",
    "Aunque ya lo hemos visto, la función que permite imprimir datos por pantalla es la función ```print()```. Si queremos imprimir el nombre y la edad de uno de los casos anteriores, simplemente escribimos:\n",
    "```python\n",
    "print('Nombre :',nombre,'; Edad: ',edad)\n",
    "```"
   ]
  },
  {
   "cell_type": "code",
   "execution_count": null,
   "metadata": {},
   "outputs": [],
   "source": []
  },
  {
   "cell_type": "markdown",
   "metadata": {},
   "source": [
    "El texto que hemos puesto entre comillas aparece tal cual en la salida por pantalla (espacios incluidos), mientras que las variables están fuera de las comillas y separadas del resto del texto por una coma. En el ejemplo siguiente se calcula el área de una circunferencia introduciendo como dato el radio. Nótese que se pueden introducir comentarios a partir del símbolo ```#``` o bien con ```'''```. \n",
    "```python\n",
    "from math import pi\n",
    "# Calcula el area de una circunferencia\n",
    "radio = float(input('Radio (en cm): '))\n",
    "area = pi * radio**2\n",
    "print('Area = ',area,' cm^2')\n",
    "```"
   ]
  },
  {
   "cell_type": "code",
   "execution_count": null,
   "metadata": {},
   "outputs": [],
   "source": []
  },
  {
   "cell_type": "markdown",
   "metadata": {},
   "source": [
    "__Usando como ejemplo el programa anterior, haz otro que calcule la superficie y el volumen de una esfera introduciendo como dato el radio de la misma.__"
   ]
  },
  {
   "cell_type": "code",
   "execution_count": null,
   "metadata": {},
   "outputs": [],
   "source": []
  },
  {
   "cell_type": "markdown",
   "metadata": {},
   "source": [
    "__Usando como ejemplo el primer programa de este Notebook, haz otro que pida tus datos personales (nombre, teléfono y dirección) y los imprima en una frase__"
   ]
  },
  {
   "cell_type": "code",
   "execution_count": null,
   "metadata": {},
   "outputs": [],
   "source": []
  }
 ],
 "metadata": {
  "kernelspec": {
   "display_name": "Python 3",
   "language": "python",
   "name": "python3"
  },
  "language_info": {
   "codemirror_mode": {
    "name": "ipython",
    "version": 3
   },
   "file_extension": ".py",
   "mimetype": "text/x-python",
   "name": "python",
   "nbconvert_exporter": "python",
   "pygments_lexer": "ipython3",
   "version": "3.7.3"
  }
 },
 "nbformat": 4,
 "nbformat_minor": 4
}
