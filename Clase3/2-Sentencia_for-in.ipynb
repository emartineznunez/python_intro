{
 "cells": [
  {
   "cell_type": "markdown",
   "metadata": {},
   "source": [
    "## Sentencias iterativas: ```for-in```\n",
    "Los bucles ```for-in``` se utilizan cuando queremos realizar unas determinadas acciones un número determinado de veces. Estos bucles ya llevan incorporado un contador utilizando la función ```range()```, por lo que son más fáciles de utilizar que los bucles ```while``` controlados por conteo. Por ejemplo el programa que suma los 3 primeros números con la sentencia ```for-in``` sería simplemente:\n",
    "\n",
    "```python\n",
    "s = 0\n",
    "for i in range(1,4):\n",
    "  s = s + i\n",
    "print('Suma = ',s)\n",
    "```"
   ]
  },
  {
   "cell_type": "code",
   "execution_count": null,
   "metadata": {},
   "outputs": [],
   "source": []
  },
  {
   "cell_type": "markdown",
   "metadata": {},
   "source": [
    "En este programa se presentan varias cosas importantes: En la línea 1 se inicializa el sumatorio; en la línea 2 comienza el bucle ```for-in``` en la que la variable ```i``` hace de contador con los límites especificados por la función ```range()```. La línea 3 es la única acción dentro del bucle y le va sumando a la variable ```s``` el valor de la variable ```i```. Los parámetros de entrada de la función ```range()``` son:\n",
    "\n",
    "```python\n",
    "range([start,] stop [,step])\n",
    "```\n",
    "donde ```start``` es el número en el que empieza la secuencia y si no se especifica es cero por defecto; ```stop``` es el número en el que finaliza la secuencia, __pero que no está incluido__; y ```step``` es la diferencia entre cada número en la secuencia y por defecto es la unidad. Estos tres números tienen que ser enteros, aunque si no se especifican ni ```start``` ni ```step``` toman los valores que tienen por defecto. Por tanto, en el programa que suma los 3 primeros numeros, la sentencia\n",
    "```python\n",
    "for i in range(1,4):\n",
    "```\n",
    "es equivalente a\n",
    "```python\n",
    "for i in range(4):\n",
    "```\n",
    "dado que ```i = 0``` no contribuye a la suma y también es equivalente a\n",
    "```python\n",
    "for i in range(1,4,1):\n",
    "```"
   ]
  },
  {
   "cell_type": "code",
   "execution_count": null,
   "metadata": {},
   "outputs": [],
   "source": []
  },
  {
   "cell_type": "markdown",
   "metadata": {},
   "source": [
    "__Utilizando la sentencia iterativa for, realiza un programa que calcule el factorial de un número entero n__"
   ]
  },
  {
   "cell_type": "code",
   "execution_count": null,
   "metadata": {},
   "outputs": [],
   "source": []
  },
  {
   "cell_type": "markdown",
   "metadata": {},
   "source": [
    "Lo bucles ```for-in``` también se pueden hacer sobre una cadena. Por ejemplo la cadena ```'Hola mundo'``` tiene 10 caracteres (También hay que contar el espacio en blanco entre las dos palabras) y el bucle los va leyendo uno a uno. Comprueba a qué salida da lugar el siguiente programa:\n",
    "```python\n",
    "cadena = 'Hola mundo'\n",
    "for x in cadena:\n",
    "   print('Caracter = ',x)\n",
    "```"
   ]
  },
  {
   "cell_type": "code",
   "execution_count": null,
   "metadata": {},
   "outputs": [],
   "source": []
  },
  {
   "cell_type": "markdown",
   "metadata": {},
   "source": [
    "También se pueden hacer sentencias anidadas de varios bucles ```for-in``` o de bucles y sentencias de control. Por ejemplo, un programa que pide una cadena y que queremos que termine cuando encuentre una letra determinada, que nosotros también introducimos mediante teclado, implica un bucle ```for-in``` y una sentencia de control ```if```. El programa es el siguiente:\n",
    "\n",
    "```python\n",
    "'''\n",
    "Comprueba que una letra pertenece a una cadena\n",
    "Imprime los caracteres hasta que encuentra\n",
    "la letra, entonces sale del bucle\n",
    "'''\n",
    "cadena = input('Introduce la cadena: ')\n",
    "letra = input('Introduce la letra: ')\n",
    "for x in cadena:\n",
    "   if x == letra:\n",
    "      print('He encontrado la letra ',letra)\n",
    "      break\n",
    "   else:\n",
    "      print('Letra ',x)\n",
    "```\n"
   ]
  },
  {
   "cell_type": "code",
   "execution_count": null,
   "metadata": {},
   "outputs": [],
   "source": []
  },
  {
   "cell_type": "markdown",
   "metadata": {},
   "source": [
    "Este programa tiene dos estructuras de control anidadas y además hemos introducido el comando ```break```. La palabra \"break\" significa romper en inglés y el comando ```break``` lo que hace es salir del bucle, en este caso cuando ```x == letra```. El programa anterior se podría hacer de forma mucho más eficiente con una sola sentencia ```if```, esto es,\n",
    "\n",
    "```python\n",
    "cadena = input('Introduce la cadena: ')\n",
    "letra = input('Introduce la letra: ')\n",
    "if letra in cadena: \n",
    "   print('He encontrado la letra ',letra)\n",
    "else: \n",
    "   print('La letra ',letra,' no esta en la cadena')\n",
    "```\n"
   ]
  },
  {
   "cell_type": "code",
   "execution_count": null,
   "metadata": {},
   "outputs": [],
   "source": []
  },
  {
   "cell_type": "markdown",
   "metadata": {},
   "source": [
    "__Haz un programa en el que se introduzcan una o varias frases y que el programa cuenta cuantas palabras y cuantos caracteres\n",
    "(palabras más blancos y signos de puntuación) hay.__"
   ]
  },
  {
   "cell_type": "code",
   "execution_count": null,
   "metadata": {},
   "outputs": [],
   "source": []
  },
  {
   "cell_type": "markdown",
   "metadata": {},
   "source": [
    "__Realiza un programa que encuentre todos los números primos hasta el número 100.__"
   ]
  },
  {
   "cell_type": "code",
   "execution_count": null,
   "metadata": {},
   "outputs": [],
   "source": []
  },
  {
   "cell_type": "code",
   "execution_count": null,
   "metadata": {},
   "outputs": [],
   "source": []
  }
 ],
 "metadata": {
  "kernelspec": {
   "display_name": "Python 3",
   "language": "python",
   "name": "python3"
  },
  "language_info": {
   "codemirror_mode": {
    "name": "ipython",
    "version": 3
   },
   "file_extension": ".py",
   "mimetype": "text/x-python",
   "name": "python",
   "nbconvert_exporter": "python",
   "pygments_lexer": "ipython3",
   "version": "3.7.3"
  }
 },
 "nbformat": 4,
 "nbformat_minor": 4
}
