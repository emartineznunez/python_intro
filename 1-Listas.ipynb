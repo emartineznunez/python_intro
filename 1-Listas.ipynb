{
 "cells": [
  {
   "cell_type": "markdown",
   "metadata": {},
   "source": [
    "## Listas\n",
    "Hasta el momento hemos visto programas en los que a cada variable se le asignaba un único dato: una cadena, un número o un booleano.<br>\n",
    "Si bien es cierto que esto permite generar una multitud de programas útiles, a la hora de realizar programas más interesantes, suele ser necesario agrupar varios datos bajo una única variable.<br>\n",
    "En Python existen varias maneras de hacer esto, pero la más común es, sin duda, a través de secuencias, siendo las $listas$ y las $tuplas$ las más conocidas. Ambas tienen muchas cosas en común y, de hecho, veremos que la principal diferencia reside en su $mutabilidad$.\n",
    "### Creando listas\n",
    "Crear una lista de datos es tan sencillo como escribirlos entre corchetes: ```[dato1,dato2,dato3...]```. Así, para crear una lista con los primeros cinco números impares solo hay que escribir:\n",
    "```python\n",
    "impares = [1,3,5,7,9]\n",
    "```\n",
    "y para guardar los ingredientes de una deliciosa tortilla escribiremos:\n",
    "```python\n",
    "tortilla = [\"huevos\",\"patatas\",\"cebollas\"]\n",
    "```\n",
    "Como puede verse, las listas pueden usarse para almacenar distintos tipos de datos (números enteros y caracteres en los ejemplos). Además, una lista puede contener datos de distinto tipo al mismo tiempo, como:\n",
    "```python\n",
    " alumno = [\"Light Yagami\",17,9.90,True]\n",
    "```\n",
    "que nos puede servir para almacenar información variada de un alumno. Por ejemplo, el primer elemento de la lista es una $cadena$ que nos indica el nombre del alumno, el segundo es un $entero$ que nos proporciona su edad, el tercero un $flotante$ con su nota media y el cuarto un $booleano$ que indica si le gusta o no la asignatura de programación (aunque este elemento era innecesario, ya que a todos los alumnos les apasiona)."
   ]
  },
  {
   "cell_type": "code",
   "execution_count": null,
   "metadata": {},
   "outputs": [],
   "source": []
  },
  {
   "cell_type": "markdown",
   "metadata": {},
   "source": [
    "Pero esto no acaba aquí. Una lista puede, además, contener otras listas (así como otro tipo de objetos). Gracias a ello, podríamos almacenar la matriz:\n",
    "$$\n",
    "\\begin{pmatrix}\n",
    " 1 & 2 \\\\\n",
    " 3 & 4\n",
    "\\end{pmatrix}\n",
    "$$\n",
    "empleando una lista en la que cada elemento fuese otra lista que definiese los elementos de cada fila (esto es lo que se conoce como una $lista$ $anidada$):\n",
    "```python\n",
    " matriz = [[1,2],[3,4]]\n",
    "```\n"
   ]
  },
  {
   "cell_type": "code",
   "execution_count": null,
   "metadata": {},
   "outputs": [],
   "source": []
  },
  {
   "cell_type": "markdown",
   "metadata": {},
   "source": [
    "__¿Como escribirías en una lista la siguiente matriz?__\n",
    "$$\n",
    "\\begin{pmatrix}\n",
    " 1 & 2 & 3 \\\\\n",
    " 4 & 5 & 6 \\\\\n",
    " 7 & 8 & 9\n",
    "\\end{pmatrix}\n",
    "$$"
   ]
  },
  {
   "cell_type": "code",
   "execution_count": null,
   "metadata": {},
   "outputs": [],
   "source": []
  },
  {
   "cell_type": "markdown",
   "metadata": {},
   "source": [
    "### Seleccionando elementos de una lista\n",
    "Ahora que ya sabemos como crear una lista que nos permita almacenar diversos datos en una variable, es importante conocer como acceder a un dato concreto de dicha lista. Para ello, simplemente hay que indicar su posición dentro de la lista entre corchetes. Veámoslo con un ejemplo:\n",
    "```python\n",
    "impares = [1,3,5,7,9]\n",
    "impares[0]\n",
    "impares[2]\n",
    "impares[-1]\n",
    "impares[-5]\n",
    "impares[1] * impares[2]\n",
    "```\n",
    "Aquí es importante indicar dos cosas: La primera es que Python empieza a numerar desde el 0 y no desde el 1. Así, la primera posición de una lista es la posición 0, seguida de la 1, de la 2, etc; la segunda es que se puede indicar la posición en una lista empezando por el final. Así, con -1 se indica que se quiere usar el primer valor empezando por el final, de igual manera que con -5 se indica que se quiere usar el quinto valor empezando por el final.<br>\n",
    "Puedes probar cada sentencia de arriba en una casilla:"
   ]
  },
  {
   "cell_type": "code",
   "execution_count": null,
   "metadata": {},
   "outputs": [],
   "source": []
  },
  {
   "cell_type": "markdown",
   "metadata": {},
   "source": [
    "En el caso de listas anidadas, como la que vimos anteriormente, podemos acceder a un elemento concreto usando dos veces el corchete:\n",
    "```python\n",
    "matriz = [[1,2],[3,4]]\n",
    "matriz[0]\n",
    "matriz[0][0]\n",
    "matriz[0][1]\n",
    "matriz[1][0]\n",
    "```"
   ]
  },
  {
   "cell_type": "code",
   "execution_count": null,
   "metadata": {},
   "outputs": [],
   "source": []
  },
  {
   "cell_type": "markdown",
   "metadata": {},
   "source": [
    "Además, no solo pueden seleccionarse elementos de una lista, sino que también se pueden seleccionar fragmentos de la misma. La manera de hacerlo es usando el operador $[n:m]$, que devolvería parte de la lista, desde el elemento $n$ hasta (pero sin incluir) el elemento $m$, similar a lo que ocurria con la función ```range()```:\n",
    "```python\n",
    "impares = [1,3,5,7,9]\n",
    "impares[0:3]\n",
    "impares[2:3]\n",
    "impares[2:2]\n",
    "impares[2:]\n",
    "```\n",
    "Es importante señalar que si $n=m$ (linea 4) Python simplemente devuelve una lista vacia y que si $m$ no se define, se selecciona la lista desde la posición $n$ hasta el final, ambos incluidos. "
   ]
  },
  {
   "cell_type": "code",
   "execution_count": null,
   "metadata": {},
   "outputs": [],
   "source": []
  },
  {
   "cell_type": "markdown",
   "metadata": {},
   "source": [
    "Esta forma de elegir elementos individuales de una lista o de seleccionar un fragmento de la misma se puede aplicar también a las cadenas, ya que, al fin y al cabo, una cadena no es más que una secuencia de caracteres: \n",
    "```python\n",
    "frase = \"Me gusta este curso de Python\"\n",
    "frase[0]\n",
    "frase[3]\n",
    "frase[-3]\n",
    "frase[0]+frase[-5]\n",
    "frase[3:7]\n",
    "frase[3:3]\n",
    "```"
   ]
  },
  {
   "cell_type": "code",
   "execution_count": null,
   "metadata": {},
   "outputs": [],
   "source": []
  },
  {
   "cell_type": "markdown",
   "metadata": {},
   "source": [
    "### Modificando listas\n",
    "Las listas son objetos mutables. Esto quiere decir que pueden ser modificadas después de haber sido creadas. Por ejemplo, para añadir un elemento a una lista puede usarse el método ```append(elemento)```:\n",
    "```python\n",
    "impares = [1,3,5,7,9]\n",
    "impares.append(11)  # inserta 11 al final\n",
    "print(impares)\n",
    "```"
   ]
  },
  {
   "cell_type": "code",
   "execution_count": null,
   "metadata": {},
   "outputs": [],
   "source": []
  },
  {
   "cell_type": "markdown",
   "metadata": {},
   "source": [
    "Como vemos, hemos añadido el elemento al final de la lista. Si quisiesemos añadir un elemento en otra posición, podría usarse el método ```insert(pos,elemento)```, donde ```pos``` hace referencia a la posición en la lista:\n",
    "```python\n",
    "impares = [1,3,5,7,9]\n",
    "impares.insert(2,11)  # inserta 11 en pos=2\n",
    "print(impares)\n",
    "```"
   ]
  },
  {
   "cell_type": "code",
   "execution_count": null,
   "metadata": {},
   "outputs": [],
   "source": []
  },
  {
   "cell_type": "markdown",
   "metadata": {},
   "source": [
    "Si, por el contrario, se desea eliminar algún elemento de la lista, pueden usarse los métodos ```remove(elemento)``` y ```pop(pos)```, que eliminan el elemento dado o el elemento en la posición definida, respectivamente:\n",
    "```python\n",
    "impares = [1,3,5,7,9]\n",
    "impares.remove(3)    # elimina el 3\n",
    "print(impares)\n",
    "impares.pop(0)       # elimina dato en pos=0\n",
    "print(impares)\n",
    "```"
   ]
  },
  {
   "cell_type": "code",
   "execution_count": null,
   "metadata": {},
   "outputs": [],
   "source": []
  },
  {
   "cell_type": "markdown",
   "metadata": {},
   "source": [
    "Hay que indicar que el método ```pop(pos)```, además de eliminar un elemento de la lista, nos lo devuelve, de forma que podría asignarse a una variable:\n",
    "```python\n",
    "impares = [1,3,5,7,9]\n",
    "eliminado = impares.pop(0)\n",
    "print(eliminado)\n",
    "print(impares)\n",
    "```"
   ]
  },
  {
   "cell_type": "code",
   "execution_count": null,
   "metadata": {},
   "outputs": [],
   "source": []
  },
  {
   "cell_type": "markdown",
   "metadata": {},
   "source": [
    "Finalmente, si se desea modificar el valor de uno de los elementos de la lista, puede hacerse directamente asignando el nuevo valor a la posición deseada. Por ejemplo:\n",
    "```python\n",
    "tortilla = [\"huevos\",\"cacahuetes\",\"cebollas\"]\n",
    "print(tortilla)\n",
    "tortilla[1] = \"patatas\"\n",
    "print(tortilla)\n",
    "```"
   ]
  },
  {
   "cell_type": "code",
   "execution_count": null,
   "metadata": {},
   "outputs": [],
   "source": []
  },
  {
   "cell_type": "markdown",
   "metadata": {},
   "source": [
    "### Operando con listas\n",
    "Al igual que con los caracteres, se pueden realizar operaciones con listas. Con el operador ```+``` podemos concatenar listas, mientras que con el operador ```*``` podemos repetir una lista tantas veces como queramos. Prueba cada linea de abajo en una casilla.\n",
    "```python\n",
    "a = [1,3,5,7]\n",
    "b = [2,4,6,8]\n",
    "a + b\n",
    "a * 2\n",
    "a + 2 * b\n",
    "```"
   ]
  },
  {
   "cell_type": "code",
   "execution_count": null,
   "metadata": {},
   "outputs": [],
   "source": []
  },
  {
   "cell_type": "markdown",
   "metadata": {},
   "source": [
    "De hecho, con estos operadores podemos realizar las mismas operaciones que con los metodos anteriores. Por ejemplo, para añadir un elemento a una lista podemos hacer lo siguiente:\n",
    "```python\n",
    "a = [1,3,5,7]\n",
    "a = a[0:2] + [11] + a[2:]\n",
    "print(a)\n",
    "```\n",
    "lo que es equivalente a:\n",
    "```python\n",
    "a = [1,3,5,7]\n",
    "a.insert(2,11)\n",
    "print(a)\n",
    "```"
   ]
  },
  {
   "cell_type": "code",
   "execution_count": null,
   "metadata": {},
   "outputs": [],
   "source": []
  },
  {
   "cell_type": "markdown",
   "metadata": {},
   "source": [
    "Al igual que con range, los bucles ```for-in``` pueden usarse para recorrer una lista (```for element in lista```):\n",
    "```python\n",
    "lista=[0,1,2]\n",
    "for element in lista:\n",
    "    print(element)\n",
    "```"
   ]
  },
  {
   "cell_type": "code",
   "execution_count": null,
   "metadata": {},
   "outputs": [],
   "source": []
  },
  {
   "cell_type": "markdown",
   "metadata": {},
   "source": [
    "__Haz un programa que sume todos los elementos de una lista de números (sin importar su longitud) haciendo uso de un bucle ```for-in```.__"
   ]
  },
  {
   "cell_type": "code",
   "execution_count": null,
   "metadata": {},
   "outputs": [],
   "source": []
  },
  {
   "cell_type": "markdown",
   "metadata": {},
   "source": [
    "Si queremos meter una serie de números (que el usuario introduce por teclado) en una lista, usaríamos la siguiente sintáxis:\n",
    "```python\n",
    "n = int(input('¿Cuántos números quieres introducir en la lista?: '))\n",
    "lista = []\n",
    "for i in range(n):\n",
    "    lista.append(float(input('Nuevo número: ')))\n",
    "print(lista)\n",
    "```\n",
    "Fijate que la lista hay que inicializarla también, al igual que el resto de variables. En este caso, como es una lista, se inicializa como una lista vacía.<br>\n",
    "__Haz un programa que calcule la media de notas numércias que introduce el usuario por teclado. Las notas deben añadirse a una lista__"
   ]
  },
  {
   "cell_type": "code",
   "execution_count": null,
   "metadata": {},
   "outputs": [],
   "source": []
  },
  {
   "cell_type": "markdown",
   "metadata": {},
   "source": [
    "__Haz un programa que calcule el número más alto y el más bajo de una serie de números que introduce el usuario por teclado. Los números debe añadirse a una lista__"
   ]
  },
  {
   "cell_type": "code",
   "execution_count": null,
   "metadata": {},
   "outputs": [],
   "source": []
  }
 ],
 "metadata": {
  "kernelspec": {
   "display_name": "Python 3",
   "language": "python",
   "name": "python3"
  },
  "language_info": {
   "codemirror_mode": {
    "name": "ipython",
    "version": 3
   },
   "file_extension": ".py",
   "mimetype": "text/x-python",
   "name": "python",
   "nbconvert_exporter": "python",
   "pygments_lexer": "ipython3",
   "version": "3.7.3"
  }
 },
 "nbformat": 4,
 "nbformat_minor": 4
}
