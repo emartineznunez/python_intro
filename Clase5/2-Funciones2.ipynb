{
 "cells": [
  {
   "cell_type": "markdown",
   "metadata": {},
   "source": [
    "## Creando tus propias funciones\n",
    "Además de las funciones ya prefedinidas en Python o las funciones que se pueden importar de diversas bibliotecas, podemos generar nuestras propias funciones.<br> \n",
    "La sintaxis general para la creación de una función es la siguiente:\n",
    "```python\n",
    "def function(arguments):\n",
    "       action 1\n",
    "       action 2\n",
    "       ...\n",
    "       action n\n",
    "    return result(s)\n",
    "```\n",
    "La función se declara con __```def()```__ y puede contener cero, uno o varios argumentos (separados por comas.}. Dentro de la función se realizan diferentes acciones, que se escriben con indentación dentro de la función y que normalmente implican operaciones con los argumentos de entrada.  Al final la función puede no devolver resultados, o puede devolver uno o varios resultados. Los resultados se devuelven mediante la declaración __```return```__. \n"
   ]
  },
  {
   "cell_type": "markdown",
   "metadata": {},
   "source": [
    "Como ejemplo, podemos crear una función que calcule la longitud de la hipotenusa de un triángulo reactángulo a partir de las longitudes de los catetos:\n",
    "```python\n",
    "def hipotenusa(cateto1,cateto2):\n",
    "    hipotenusa_cuadrado = cateto1 ** 2 + cateto2 ** 2\n",
    "    hipotenusa = hipotenusa_cuadrado ** 0.5\n",
    "    return hipotenusa\n",
    "```"
   ]
  },
  {
   "cell_type": "code",
   "execution_count": null,
   "metadata": {},
   "outputs": [],
   "source": []
  },
  {
   "cell_type": "markdown",
   "metadata": {},
   "source": [
    "En este ejemplo, el nombre de la función es \\pylin{hipotenusa()} y acepta os argumentos, que son las longitudes de los dos catetos, ```cateto1``` y ```cateto2```. Tras realizar un par de acciones en las líneas 2 y 3, el resultado final se devuelve con ```return``` en la línea 4. Para que la función se ejecute necesitamos  _llamarla_ o _invocarla_. En los ejemplos siguientes se muestran ejemplos de llamadas a la función ```hipotenusa()```:\n",
    "```python\n",
    "print(hipotenusa(1.0,1.0))\n",
    "print(hipotenusa(1.0,2.0))\n",
    "hipoten1 = hipotenusa(4.0,3.0)\n",
    "print(hipoten1)\n",
    "```\n",
    "En la líneas 1 y 2 se llama a la función ```hipotenusa()``` y se imprime el resultado, mientras que en la línea 3 a la variable ```hipoten1``` se la asigna el resultado de la ejecución de la función con los argumentos ```(4.0,3.0)```, que se imprime posteriormente.\n"
   ]
  },
  {
   "cell_type": "code",
   "execution_count": null,
   "metadata": {},
   "outputs": [],
   "source": []
  },
  {
   "cell_type": "markdown",
   "metadata": {},
   "source": [
    "Como segundo ejemplo, se presenta un programa en el que se calcula el producto escalar de dos vectores en $\\mathbb{R}^2$:\n",
    "```python\n",
    "def preguntar_vectores():\n",
    "    Ax = float(input(\"Coordenada x de vA: \"))\n",
    "    Ay = float(input(\"Coordenada y de vA: \"))\n",
    "    Bx = float(input(\"Coordenada x de vB: \"))\n",
    "    By = float(input(\"Coordenada y de vB: \"))\n",
    "    return [Ax,Ay], [Bx,By]\n",
    "def prod_escalar(A,B):\n",
    "    producto = A[0] * B[0] + A[1] * B[1]\n",
    "    return producto\n",
    "A , B = preguntar_vectores()\n",
    "print(\"El primer vector es:\", A)\n",
    "print(\"El segundo vector es:\", B)\n",
    "print(\"El producto escalar es:\", prod_escalar(A,B))\n",
    "```\n"
   ]
  },
  {
   "cell_type": "code",
   "execution_count": null,
   "metadata": {},
   "outputs": [],
   "source": []
  },
  {
   "cell_type": "markdown",
   "metadata": {},
   "source": [
    "En este caso se hace uso de dos funciones, la función ```preguntar_vectores()``` pregunta al usuario las componentes de los dos vectores, y tiene como resultado dos listas. Estas dos listas se crean al invocar la función en la línea 10 del programa y se llaman ```vA``` y ```vB```. La línea 13 imprime el resultado de llamar a la función ```prod_escalar()```.<br> \n",
    "Es importante darse cuenta de que los argumentos de la función se tratan como _variables locales_ y aunque se modifiquen dentro de la función, fuera de la misma siguen teniendo el mismo valor. De hecho los argumentos de la línea 7 (donde se declara la función)  y de la línea 13 (donde se llama a la función) no tienen porqué llamarse igual y el programa funciona perfectamente si cambiamos la función ```prod_escalar()``` por la que se indica abajo:\n",
    "```python\n",
    "def prod_escalar(v1,v2):\n",
    "    producto = v1[0]*v2[0] + v1[1]*v2[1]\n",
    "    return producto\n",
    "```"
   ]
  },
  {
   "cell_type": "code",
   "execution_count": null,
   "metadata": {},
   "outputs": [],
   "source": []
  },
  {
   "cell_type": "markdown",
   "metadata": {},
   "source": [
    "Otro ejemplo que indica la forma en que Python trata las variables dentro de las funciones es el siguiente: \n",
    "```python\n",
    "def saludar(saludo):\n",
    "    saludo = 'Hola'\n",
    "    print(saludo)\n",
    "    return\n",
    "saludo = 'Bye'\n",
    "saludar(saludo)\n",
    "print(saludo)\n",
    "```\n",
    "El programa imprime la salida siguiente:\n",
    "```python\n",
    "Hola\n",
    "Bye\n",
    "```\n",
    "La línea 5 del programa asigna a ```saludo``` la cadena ```'Bye'```, pero después se llama a la función ```saludar()``` que tiene como misión asignar a la variable ```saludo``` la cadena ```'Hola'``` y después imprimir dicha variable. Cuando se imprime ```saludo``` dentro de la función el resultado es ```'Hola'```, pero fuera de la función el resultado sigue siendo ```'Bye'```. No importa que hayamos cambiado la asignación dentro de la función, porque la variable ```saludo```, como __todas las variables dentro de las funciones, son locales y no tienen efecto sobre las variables que se llaman igual fuera del entorno de la función.__ "
   ]
  },
  {
   "cell_type": "code",
   "execution_count": null,
   "metadata": {},
   "outputs": [],
   "source": []
  },
  {
   "cell_type": "markdown",
   "metadata": {},
   "source": [
    "Los ejemplos anteriores nos muestran que el uso de funciones presenta diversas ventajas:\n",
    "1. Podemos nombrar un grupo de sentencias que realicen una acción concreta.\n",
    "2. Conseguimos programas son mucho más fáciles de leer, entender y corregir.\n",
    "3. Evitamos repetir código a lo largo de nuestro programa.\n"
   ]
  },
  {
   "cell_type": "markdown",
   "metadata": {},
   "source": [
    "__Construye un programa que conste de tres funciones, una que lea los datos, otra que haga la media aritmética de los datos y una tercera que haga la media geométrica de los datos. El programa debe permitir elegir el tipo de media a realizar, en concreto, sólo la media aritmética, solo la media geométrica o ambas medias.__"
   ]
  },
  {
   "cell_type": "code",
   "execution_count": null,
   "metadata": {},
   "outputs": [],
   "source": []
  },
  {
   "cell_type": "markdown",
   "metadata": {},
   "source": [
    "__Partiendo del programa de arriba que calcula el producto escalar de dos vectores en $\\mathbb{R}^2$, haz un programa que calcule el determinante de una matriz 2x2.__"
   ]
  },
  {
   "cell_type": "code",
   "execution_count": null,
   "metadata": {},
   "outputs": [],
   "source": []
  },
  {
   "cell_type": "markdown",
   "metadata": {},
   "source": [
    "__Usa la función anterior para calcular el determinante de la matriz ```[[1,2],[3,4]]```__"
   ]
  },
  {
   "cell_type": "code",
   "execution_count": null,
   "metadata": {},
   "outputs": [],
   "source": []
  },
  {
   "cell_type": "markdown",
   "metadata": {},
   "source": [
    "__Construye una función que calcule el determinante de una matriz 3x3. Utiliza la función para calcular el determinante de la matriz ```[[1,2,3],[2,4,6],[1,1,1]]```.__"
   ]
  },
  {
   "cell_type": "code",
   "execution_count": null,
   "metadata": {},
   "outputs": [],
   "source": []
  },
  {
   "cell_type": "markdown",
   "metadata": {},
   "source": [
    "Un programa que calcule el módulo de un vector en $\\mathbb{R}^2$ sería:\n",
    "```python\n",
    "from math import sqrt\n",
    "def preguntar_vector():\n",
    "    v = []\n",
    "    for i in range(2):\n",
    "        v.append(float(input(\"Coordenada: \")))\n",
    "    return v\n",
    "def modulo(v):\n",
    "    modulo = sqrt(v[0] ** 2 + v[1] ** 2)\n",
    "    return modulo\n",
    "v = preguntar_vector()\n",
    "print(\"El vector es:\", v)\n",
    "print(\"El modulo de este vector es:\", modulo(v))\n",
    "```"
   ]
  },
  {
   "cell_type": "code",
   "execution_count": null,
   "metadata": {},
   "outputs": [],
   "source": []
  },
  {
   "cell_type": "markdown",
   "metadata": {},
   "source": [
    "__Haz un programa que calcule el módulo de un vector en $\\mathbb{R}^3$__"
   ]
  },
  {
   "cell_type": "code",
   "execution_count": null,
   "metadata": {},
   "outputs": [],
   "source": []
  },
  {
   "cell_type": "markdown",
   "metadata": {},
   "source": [
    "__Haz un programa que calcule el módulo de un vector en $\\mathbb{R}^n$__"
   ]
  },
  {
   "cell_type": "code",
   "execution_count": null,
   "metadata": {},
   "outputs": [],
   "source": []
  },
  {
   "cell_type": "markdown",
   "metadata": {},
   "source": [
    "__Haz un programa que calcule el producto vectorial de dos vectores en $\\mathbb{R}^3$__"
   ]
  },
  {
   "cell_type": "code",
   "execution_count": null,
   "metadata": {},
   "outputs": [],
   "source": []
  }
 ],
 "metadata": {
  "kernelspec": {
   "display_name": "Python 3",
   "language": "python",
   "name": "python3"
  },
  "language_info": {
   "codemirror_mode": {
    "name": "ipython",
    "version": 3
   },
   "file_extension": ".py",
   "mimetype": "text/x-python",
   "name": "python",
   "nbconvert_exporter": "python",
   "pygments_lexer": "ipython3",
   "version": "3.7.3"
  }
 },
 "nbformat": 4,
 "nbformat_minor": 4
}
