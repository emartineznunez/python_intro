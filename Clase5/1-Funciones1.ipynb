{
 "cells": [
  {
   "cell_type": "markdown",
   "metadata": {},
   "source": [
    "# Funciones\n",
    "En programación, una función es una secuencia de sentencias que ejecuta una operación deseada y tiene un nombre. Un ejemplo es la función ```sqrt()``` del módulo ```math```:\n",
    "```python\n",
    "from math import sqrt\n",
    "numero = 4.5\n",
    "raiz   = sqrt(4.5)\n",
    "print(\"La raiz cuadrada de\", numero, \"es\", raiz)\n",
    "```\n",
    "En la \"llamada\" a la función (linea 3), la expresión en paréntesis es lo se conoce como $argumento$ de la función. Para esta función, el $resultado$ es la raíz cuadrada de su argumento."
   ]
  },
  {
   "cell_type": "code",
   "execution_count": null,
   "metadata": {},
   "outputs": [],
   "source": []
  },
  {
   "cell_type": "markdown",
   "metadata": {},
   "source": [
    "## Algunas funciones definidas dentro de Python\n",
    "\n",
    "Dentro de Python hay diversas funciones ya pre-definidas:\n",
    "1. Función ```type``` que nos dice el tipo de objeto que es el argumento:\n",
    "```python\n",
    "type(4.4)\n",
    "type({1:45, 5:77})\n",
    "```"
   ]
  },
  {
   "cell_type": "code",
   "execution_count": null,
   "metadata": {},
   "outputs": [],
   "source": []
  },
  {
   "cell_type": "markdown",
   "metadata": {},
   "source": [
    "2. ```int``` y ```float```, que pueden usarse para generar enteros y flotantes, respectivamente. Por ejemplo:\n",
    "```python\n",
    "print(int(\"3\"))\n",
    "print(int(4.99))\n",
    "print(float(\"3\") + float(1))\n",
    "```"
   ]
  },
  {
   "cell_type": "code",
   "execution_count": null,
   "metadata": {},
   "outputs": [],
   "source": []
  },
  {
   "cell_type": "markdown",
   "metadata": {},
   "source": [
    "3. ```abs```, devuelve el valor absoluto de un número:\n",
    "```python\n",
    "print(abs(3.3))\n",
    "print(abs(-9.2))\n",
    "```"
   ]
  },
  {
   "cell_type": "code",
   "execution_count": null,
   "metadata": {},
   "outputs": [],
   "source": []
  },
  {
   "cell_type": "markdown",
   "metadata": {},
   "source": [
    "4. ```list()``` y ```tuple()```, que pueden usarse para generar listas a partir de tuplas y viceversa:\n",
    "```python\n",
    "mi_lista = [1,2,3]\n",
    "mi_tupla = (1,2,3)\n",
    "print(list(mi_tupla))\n",
    "print(tuple(mi_lista))\n",
    "```"
   ]
  },
  {
   "cell_type": "code",
   "execution_count": null,
   "metadata": {},
   "outputs": [],
   "source": []
  },
  {
   "cell_type": "markdown",
   "metadata": {},
   "source": [
    "5. ```len()```, que permite conocer el número de caracteres de una cadena o el número de elementos de una lista, tupla o diccionario:\n",
    "```python\n",
    "mi_cadena = \"hoy voy a comer cocido\"\n",
    "mi_tupla = (3.3,9.9,1.0,7.45)\n",
    "print(len(mi_cadena))\n",
    "print(len(mi_tupla))\n",
    "```"
   ]
  },
  {
   "cell_type": "code",
   "execution_count": null,
   "metadata": {},
   "outputs": [],
   "source": []
  },
  {
   "cell_type": "markdown",
   "metadata": {},
   "source": [
    "6. ```min()``` y ```max()```, que pueden usarse para obtener el mínimo y el máximo de una lista o una tupla:\n",
    "```python\n",
    "mi_lista = [99.0, -45.1, 88.1, -19.2, 42.0]\n",
    "print(min(mi_lista))\n",
    "print(max(mi_lista))\n",
    "```"
   ]
  },
  {
   "cell_type": "code",
   "execution_count": null,
   "metadata": {},
   "outputs": [],
   "source": []
  },
  {
   "cell_type": "markdown",
   "metadata": {},
   "source": [
    "7. ```sum()```, que permite sumar en una única línea los elementos de una lista o una tupla:\n",
    "```python\n",
    "mi_lista = [99.0, -45.1, 88.1, -19.2, 42.0]\n",
    "sum(mi_lista)\n",
    "```"
   ]
  },
  {
   "cell_type": "code",
   "execution_count": null,
   "metadata": {},
   "outputs": [],
   "source": []
  },
  {
   "cell_type": "markdown",
   "metadata": {},
   "source": [
    "8. ```sorted()```, que devuelve,  __en forma de lista__, los elementos de una lista o una tupla ordenados:\n",
    "```python\n",
    "tupla = (1,3,5,2,4,6)\n",
    "print(sorted(tupla))\n",
    "lista_palabras = ['dos','ondas','si','no']\n",
    "print(sorted(lista_palabras))\n",
    "```"
   ]
  },
  {
   "cell_type": "code",
   "execution_count": null,
   "metadata": {},
   "outputs": [],
   "source": []
  },
  {
   "cell_type": "markdown",
   "metadata": {},
   "source": [
    "__Haz un programa en donde el usuario cree una lista con números por teclado (Ya lo has hecho en un Notebook anterior)__"
   ]
  },
  {
   "cell_type": "code",
   "execution_count": null,
   "metadata": {},
   "outputs": [],
   "source": []
  },
  {
   "cell_type": "markdown",
   "metadata": {},
   "source": [
    "__Haz otro programa que calcule el máximo y el mínimo de la lista usando la función ```sorted()```, pero no las funciones ```max()``` y ```min()```.__"
   ]
  },
  {
   "cell_type": "code",
   "execution_count": null,
   "metadata": {},
   "outputs": [],
   "source": []
  }
 ],
 "metadata": {
  "kernelspec": {
   "display_name": "Python 3",
   "language": "python",
   "name": "python3"
  },
  "language_info": {
   "codemirror_mode": {
    "name": "ipython",
    "version": 3
   },
   "file_extension": ".py",
   "mimetype": "text/x-python",
   "name": "python",
   "nbconvert_exporter": "python",
   "pygments_lexer": "ipython3",
   "version": "3.7.3"
  }
 },
 "nbformat": 4,
 "nbformat_minor": 4
}
