{
 "cells": [
  {
   "cell_type": "markdown",
   "metadata": {},
   "source": [
    "## Sentencias iterativas: ```while```\n",
    "Las sentencias iterativas permiten englobar una serie de acciones que se ejecutan un número determinado de veces (bucles). En el caso de la sentencia ```while```, que significa \"mientras\" en inglés, dichas acciones se ejecutan mientras se cumpla una condición determinada. Esta es la sintaxis:\n",
    "```python\n",
    "while condition: \n",
    "    action 1\n",
    "    action 2\n",
    "    ...\n",
    "    action n\n",
    "```\n",
    "Por ejemplo si queremos hacer un programa que sume los números del 1 al 3, esto es, que haga la suma $s =\\sum_{i=1}^{3} i$  y que imprima el resultado podemos utilizar la sentencia ```while```:\n",
    "```python\n",
    "'''\n",
    "programa que calcula la suma de los\n",
    "3 primeros numeros\n",
    "'''\n",
    "s = 0\n",
    "i = 0\n",
    "while i < 3:\n",
    "   i = i + 1\n",
    "   s = s + i\n",
    "print('Suma = ',s)\n",
    "```\n"
   ]
  },
  {
   "cell_type": "code",
   "execution_count": null,
   "metadata": {},
   "outputs": [],
   "source": []
  },
  {
   "cell_type": "markdown",
   "metadata": {},
   "source": [
    "Para entender mejor lo que hace el programa puedes introducir un ```print``` dentro del bucle:\n",
    "```python\n",
    "'''\n",
    "programa que calcula la suma de los\n",
    "3 primeros numeros\n",
    "'''\n",
    "s = 0\n",
    "i = 0\n",
    "while i < 3:\n",
    "   i = i + 1\n",
    "   s = s + i\n",
    "   print('iteracion ',i,' valor de s =',s)\n",
    "print('Suma = ',s)\n",
    "```\n"
   ]
  },
  {
   "cell_type": "code",
   "execution_count": 1,
   "metadata": {},
   "outputs": [
    {
     "name": "stdout",
     "output_type": "stream",
     "text": [
      "iteracion  1  valor de s = 1\n",
      "iteracion  2  valor de s = 3\n",
      "iteracion  3  valor de s = 6\n",
      "Suma =  6\n"
     ]
    }
   ],
   "source": [
    "s = 0\n",
    "i = 0\n",
    "while i < 3:\n",
    "   i = i + 1\n",
    "   s = s + i\n",
    "   print('iteracion ',i,' valor de s =',s)\n",
    "print('Suma = ',s)"
   ]
  },
  {
   "cell_type": "markdown",
   "metadata": {},
   "source": [
    "En este programa le damos un valor inicial a la variable ```s``` y después dentro del bucle ```while``` vamos añadiendo el valor de ```i``` a ```s``` mediante la sentencia ```s = s + i```.<br> \n",
    "\n",
    "Hay que inicializar (Término habitual en informática que significa iniciar) el valor de ```i``` a cero.<br> \n",
    "\n",
    "La línea  que tiene la sentencia ```while``` hace que se ejecuten las 3 líneas tabuladas siguientes hasta que la condición lógica ```i < 3``` deje de cumplirse.<br> \n",
    "\n",
    "Dentro del bucle usamos _contadores_ ; el primero le añade 1 al valor actual de la variable ```i``` y el siguiente realiza la suma.<br>\n",
    "\n",
    "Por tanto, en la primera _iteración_ (La primera vez que el programa pasa por la sentencia iterativa.): ```i = 1```, ```s = 1```; en la iteración número 2: ```i = 2```, ```s = 3```, y en la iteración número 3: ```i = 3```, ```s = 6```, que es el resultado final de la suma."
   ]
  },
  {
   "cell_type": "markdown",
   "metadata": {},
   "source": [
    "__Escribe el mismo programa pero poniendo ```s = s + i``` antes de ```i = i + 1``` y explica que pasa. ¿Cómo habría que cambiar ligeramente el programa para que al poner las líneas de esta manera efectuase correctamente la suma?__"
   ]
  },
  {
   "cell_type": "code",
   "execution_count": 2,
   "metadata": {},
   "outputs": [
    {
     "name": "stdout",
     "output_type": "stream",
     "text": [
      "iteracion  1  valor de s = 0\n",
      "iteracion  2  valor de s = 1\n",
      "iteracion  3  valor de s = 3\n",
      "Suma =  3\n"
     ]
    }
   ],
   "source": [
    "s = 0\n",
    "i = 0\n",
    "while i < 3:\n",
    "   s = s + i\n",
    "   i = i + 1\n",
    "   print('iteracion ',i,' valor de s =',s)\n",
    "print('Suma = ',s)"
   ]
  },
  {
   "cell_type": "markdown",
   "metadata": {},
   "source": [
    "__Tomando como ejemplo el programa anterior, haz uno que sume los 100 primeros números naturales de 5 en 5.__"
   ]
  },
  {
   "cell_type": "code",
   "execution_count": null,
   "metadata": {},
   "outputs": [],
   "source": []
  },
  {
   "cell_type": "markdown",
   "metadata": {},
   "source": [
    "__Tomando como ejemplo el programa anterior, realiza uno que haga la multiplicación de los 4 primeros números naturales__"
   ]
  },
  {
   "cell_type": "code",
   "execution_count": null,
   "metadata": {},
   "outputs": [],
   "source": []
  },
  {
   "cell_type": "markdown",
   "metadata": {},
   "source": [
    "__Generaliza el programa anterior para que haga la multiplicación de los n primeros números naturales, donde n lo introduzca el usuario por teclado__"
   ]
  },
  {
   "cell_type": "code",
   "execution_count": null,
   "metadata": {},
   "outputs": [],
   "source": []
  },
  {
   "cell_type": "markdown",
   "metadata": {},
   "source": [
    "__Usando el programa anterior, haz uno que calcule el factorial de un número entero n. Recuerda que $0!=1$ y que $n!=1\\cdot2\\cdot3\\cdot\\ldots\\cdot(n-1)\\cdot n$__ "
   ]
  },
  {
   "cell_type": "code",
   "execution_count": null,
   "metadata": {},
   "outputs": [],
   "source": []
  },
  {
   "cell_type": "markdown",
   "metadata": {},
   "source": [
    "El bucle ```while``` del ejemplo está _controlado por conteo_ , esto es, hay un contador dentro del bucle que cuando llega a un determinado valor la condición lógica no se cumple y el bucle termina. Sin embargo, también se pueden realizar bucles ```while``` _controlados por evento_ , en los que el bucle se ejecuta una y otra vez hasta que se activa una acción (el evento) dentro del bucle que hace que éste se termine. Imaginemos que queremos crear una calculadora que sume números naturales en la que el usuario introduce por teclado una serie de números hasta que introduce un número negativo, que en este caso indica que quiere que el bucle se termine. Un programa de ese tipo sería:\n",
    "\n",
    "```python\n",
    "s=0\n",
    "numero = int(input('Numero = '))\n",
    "while numero >=0:\n",
    "   s = s + numero\n",
    "   numero = int(input('Numero = '))\n",
    "print('La suma es = ',s)\n",
    "```"
   ]
  },
  {
   "cell_type": "code",
   "execution_count": null,
   "metadata": {},
   "outputs": [],
   "source": []
  },
  {
   "cell_type": "code",
   "execution_count": null,
   "metadata": {},
   "outputs": [],
   "source": []
  }
 ],
 "metadata": {
  "kernelspec": {
   "display_name": "Python 3",
   "language": "python",
   "name": "python3"
  },
  "language_info": {
   "codemirror_mode": {
    "name": "ipython",
    "version": 3
   },
   "file_extension": ".py",
   "mimetype": "text/x-python",
   "name": "python",
   "nbconvert_exporter": "python",
   "pygments_lexer": "ipython3",
   "version": "3.7.4"
  }
 },
 "nbformat": 4,
 "nbformat_minor": 4
}
